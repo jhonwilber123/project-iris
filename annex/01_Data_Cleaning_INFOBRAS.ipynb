{
 "cells": [
  {
   "cell_type": "code",
   "execution_count": 1,
   "id": "28778d87-00d3-4163-8fe8-10be6137e717",
   "metadata": {},
   "outputs": [
    {
     "name": "stdout",
     "output_type": "stream",
     "text": [
      "Dataset crudo cargado.\n",
      "<class 'pandas.core.frame.DataFrame'>\n",
      "RangeIndex: 178257 entries, 0 to 178256\n",
      "Columns: 113 entries, codigo Entidad to Monto Total devengado del proyecto\n",
      "dtypes: float64(12), int64(16), object(85)\n",
      "memory usage: 153.7+ MB\n"
     ]
    }
   ],
   "source": [
    "import pandas as pd\n",
    "import numpy as np\n",
    "\n",
    "# Cargar el dataset crudo\n",
    "df_raw = pd.read_csv('../data/infobras.csv', low_memory=False)\n",
    "\n",
    "print(\"Dataset crudo cargado.\")\n",
    "df_raw.info()"
   ]
  },
  {
   "cell_type": "code",
   "execution_count": 2,
   "id": "67731353-c58c-4918-b245-9a4c3a30c3fa",
   "metadata": {},
   "outputs": [],
   "source": [
    "# --- VERSIÓN FINAL DE LA PIPELINE DE LIMPIEZA ---\n",
    "def clean_infobras_data(df_raw):\n",
    "    df = df_raw.copy()\n",
    "    print(\"Iniciando proceso de limpieza...\")\n",
    "    \n",
    "    # 1. Estandarizar nombres de columnas\n",
    "    df.columns = df.columns.str.lower().str.replace(' ', '_', regex=False).str.replace('¿', '', regex=False).str.replace('?', '', regex=False).str.replace('(', '', regex=False).str.replace(')', '', regex=False).str.replace(':', '', regex=False).str.replace('.', '', regex=False).str.normalize('NFKD').str.encode('ascii', errors='ignore').str.decode('utf-8')\n",
    "\n",
    "    # 2. Renombrar columnas duplicadas\n",
    "    rename_dict = {\n",
    "        'ruc1': 'ruc_supervisor', 'nombre_o_razon_social_de_la_empresa_o_consorcio1': 'razon_social_supervisor',\n",
    "        'monto_del_contrato__en_soles1': 'monto_contrato_soles_supervisor', 'tipo_de_documento_de_identidad1': 'tipo_doc_identidad_residente',\n",
    "        'numero_de_documento1': 'num_doc_residente', 'nombres_apellidos1': 'nombres_apellidos_residente',\n",
    "        'colegiatura1': 'colegiatura_residente', 'numero_de_colegiatura1': 'num_colegiatura_residente',\n",
    "        'fecha_inicio_de_labores': 'fecha_inicio_labores_residente', 'fecha_fin__de_labores': 'fecha_fin_labores_residente'\n",
    "    }\n",
    "    df = df.rename(columns=rename_dict)\n",
    "\n",
    "    # 3. Eliminar columnas inútiles\n",
    "    cols_to_drop = [\n",
    "        'fecha_de_aprobacion', 'tipo_de_certificado_de_inversion_publica', 'monto_cipril_/cipgn', \n",
    "        'fecha_del_cipril_/_cipgn', 'numero_del_cipril_/cipgn', 'otra_marca'\n",
    "    ]\n",
    "    df = df.drop(columns=cols_to_drop, errors='ignore')\n",
    "\n",
    "    # 4. Convertir tipos de datos\n",
    "    date_cols = [\n",
    "        'fecha_de_actualizacion', 'fecha_de_aprobacion_del_expediente', 'fecha_inicio_supervision', 'fecha_fin_supervision',\n",
    "        'fecha_inicio_labores_residente', 'fecha_fin_labores_residente', 'fecha_de_inicio_de_obra', \n",
    "        'fecha_finalizacion_programada_de_obra', 'fecha_de_entrega_del_terreno', 'fecha_de_registro_de_avance', \n",
    "        'fecha_de_paralizacion', 'fecha_finalizacion_reprogramada_de_obra', 'fecha_de_finalizacion_real', \n",
    "        'fecha_de_recepcion', 'fecha_de_aprobacion_de_liquidacion_de_obra', 'fecha_de_transferencia'\n",
    "    ]\n",
    "    for col in date_cols:\n",
    "        if col in df.columns:\n",
    "            df[col] = pd.to_datetime(df[col], dayfirst=True, errors='coerce')\n",
    "    \n",
    "    numeric_object_cols = [\n",
    "        'monto_viable/aprobado', 'monto_de_aprobacion_de_expediente_tecnico', 'tasa_de_cambio', 'monto_aprobado_en_soles',\n",
    "        'monto_del_contrato__en_soles', 'monto_contrato_soles_supervisor', 'porcentaje_de_terreno_entregado',\n",
    "        'avance_fisico_programado_acumulado_%', 'avance_fisico_real_acumulado_%', 'monto_de_valorizacion_programado_acumulado',\n",
    "        'monto_de_valorizacion_ejecutado_acumulado', 'porcentaje_de_ejecucion_financiera', 'monto_de_ejecucion_financiera_de_la_obra',\n",
    "        'monto_de_adicionales_de_obra_en_soles', 'monto_de_adicionales_de_supervision_en_soles',\n",
    "        'monto_de_deductivos_de_obra_en_soles', 'costo_de_la_obra_en_soles', 'monto_total_devengado_del_proyecto'\n",
    "    ]\n",
    "    for col in numeric_object_cols:\n",
    "        if col in df.columns:\n",
    "            df[col] = df[col].astype(str).str.replace('S/.', '', regex=False).str.replace('%', '', regex=False).str.replace(',', '', regex=False).str.strip()\n",
    "            df[col] = pd.to_numeric(df[col], errors='coerce')\n",
    "\n",
    "    # 5. Manejar Nulos\n",
    "    df['causal_de_paralizacion'] = df['causal_de_paralizacion'].fillna('No Paralizada')\n",
    "    categorical_fillna_unknown = ['departamento', 'provincia', 'distrito', 'modalidad_de_ejecucion_de_la_obra']\n",
    "    for col in categorical_fillna_unknown:\n",
    "        if col in df.columns:\n",
    "            df[col] = df[col].fillna('Desconocido')\n",
    "    numeric_fillna_zero = ['monto_aprobado_en_soles', 'monto_del_contrato__en_soles', 'costo_de_la_obra_en_soles']\n",
    "    for col in numeric_fillna_zero:\n",
    "        if col in df.columns:\n",
    "            df[col] = df[col].fillna(0)\n",
    "            \n",
    "    print(\"Proceso de limpieza completo!\")\n",
    "    return df"
   ]
  },
  {
   "cell_type": "code",
   "execution_count": 3,
   "id": "a655c1da-4b6e-44ea-b142-edeba337c98f",
   "metadata": {},
   "outputs": [
    {
     "name": "stdout",
     "output_type": "stream",
     "text": [
      "Iniciando proceso de limpieza...\n"
     ]
    },
    {
     "name": "stderr",
     "output_type": "stream",
     "text": [
      "C:\\Users\\GAMERS\\AppData\\Local\\Temp\\ipykernel_12020\\3124197627.py:36: UserWarning: Could not infer format, so each element will be parsed individually, falling back to `dateutil`. To ensure parsing is consistent and as-expected, please specify a format.\n",
      "  df[col] = pd.to_datetime(df[col], dayfirst=True, errors='coerce')\n"
     ]
    },
    {
     "name": "stdout",
     "output_type": "stream",
     "text": [
      "Proceso de limpieza completo!\n",
      "\n",
      "Archivo 'infobras_clean_v1.csv' exportado exitosamente.\n",
      "<class 'pandas.core.frame.DataFrame'>\n",
      "RangeIndex: 178257 entries, 0 to 178256\n",
      "Columns: 108 entries, codigo_entidad to monto_total_devengado_del_proyecto\n",
      "dtypes: datetime64[ns](16), float64(29), int64(16), object(47)\n",
      "memory usage: 146.9+ MB\n"
     ]
    }
   ],
   "source": [
    "# Ejecutar la pipeline\n",
    "df_clean = clean_infobras_data(df_raw)\n",
    "\n",
    "# Exportar el resultado\n",
    "df_clean.to_csv('../data/infobras_clean_v1.csv', index=False)\n",
    "\n",
    "print(\"\\nArchivo 'infobras_clean_v1.csv' exportado exitosamente.\")\n",
    "df_clean.info()"
   ]
  },
  {
   "cell_type": "code",
   "execution_count": null,
   "id": "ee93a5b9-cdee-4205-9e75-d4dfc191d8ec",
   "metadata": {},
   "outputs": [],
   "source": []
  }
 ],
 "metadata": {
  "kernelspec": {
   "display_name": "Python 3 (ipykernel)",
   "language": "python",
   "name": "python3"
  },
  "language_info": {
   "codemirror_mode": {
    "name": "ipython",
    "version": 3
   },
   "file_extension": ".py",
   "mimetype": "text/x-python",
   "name": "python",
   "nbconvert_exporter": "python",
   "pygments_lexer": "ipython3",
   "version": "3.12.6"
  }
 },
 "nbformat": 4,
 "nbformat_minor": 5
}
