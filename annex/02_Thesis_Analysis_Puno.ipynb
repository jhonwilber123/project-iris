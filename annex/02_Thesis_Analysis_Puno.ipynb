{
 "cells": [
  {
   "cell_type": "markdown",
   "id": "84169c00-c950-49a2-a357-2803d818b408",
   "metadata": {},
   "source": [
    "# Análisis Cuantitativo para Tesis: Obras Públicas en Puno (2013-2025)\n",
    "\n",
    "**Autor de la Tesis:** Bach. Fabricio Rigoberto Rodriguez Ascarrunz\n",
    "**Análisis de Datos por:** Ing. Jhon Wilber Ajata Ascarrunz\n",
    "\n",
    "**Objetivo:** Este notebook reproduce el análisis cuantitativo descrito en el Capítulo IV de la tesis. Se parte de la base de datos limpia de INFOBRAS para generar las tablas de resultados y realizar las pruebas de hipótesis que comparan las modalidades de ejecución por Administración Directa y por Contrata, siguiendo estrictamente la metodología y los indicadores definidos en el instrumento de investigación."
   ]
  },
  {
   "cell_type": "code",
   "execution_count": 10,
   "id": "41df6f08-3fa6-454a-aff7-e556098686ff",
   "metadata": {},
   "outputs": [
    {
     "name": "stdout",
     "output_type": "stream",
     "text": [
      "--- Paso 1: Entorno Configurado ---\n",
      "Librerías importadas correctamente.\n"
     ]
    }
   ],
   "source": [
    "# Tarea 1.1: Importar librerías\n",
    "import pandas as pd\n",
    "import numpy as np\n",
    "from scipy.stats import shapiro, mannwhitneyu\n",
    "\n",
    "print(\"--- Paso 1: Entorno Configurado ---\")\n",
    "print(\"Librerías importadas correctamente.\")"
   ]
  },
  {
   "cell_type": "code",
   "execution_count": 11,
   "id": "155c8795-2ffd-4306-aac0-d85d8f3a2bca",
   "metadata": {},
   "outputs": [
    {
     "name": "stdout",
     "output_type": "stream",
     "text": [
      "\n",
      "--- Paso 2: Carga y Preparación de Datos ---\n",
      "Dataset 'infobras_clean_v1.csv' cargado y preparado.\n",
      "Se han aislado 10317 obras correspondientes a la región Puno.\n"
     ]
    }
   ],
   "source": [
    "# Tarea 1.2: Cargar y preparar datos\n",
    "print(\"\\n--- Paso 2: Carga y Preparación de Datos ---\")\n",
    "try:\n",
    "    # Cargamos el resultado de nuestro trabajo de limpieza anterior\n",
    "    df_clean = pd.read_csv('../data/infobras_clean_v1.csv', low_memory=False)\n",
    "    \n",
    "    # Aseguramos que las columnas de fecha clave sean del tipo datetime para futuros análisis\n",
    "    date_cols_to_convert = ['fecha_de_inicio_de_obra', 'fecha_de_finalizacion_real']\n",
    "    for col in date_cols_to_convert:\n",
    "        df_clean[col] = pd.to_datetime(df_clean[col], errors='coerce')\n",
    "    \n",
    "    print(\"Dataset 'infobras_clean_v1.csv' cargado y preparado.\")\n",
    "    \n",
    "    # Filtramos para obtener solo los registros de la región Puno\n",
    "    df_puno = df_clean[df_clean['departamento'] == 'PUNO'].copy()\n",
    "    print(f\"Se han aislado {len(df_puno)} obras correspondientes a la región Puno.\")\n",
    "\n",
    "except FileNotFoundError:\n",
    "    print(\"Error Crítico: No se encontró el archivo 'infobras_clean_v1.csv' en la carpeta 'data/'.\")\n",
    "    print(\"Asegúrate de que el archivo exista en la ubicación correcta antes de continuar.\")\n"
   ]
  },
  {
   "cell_type": "code",
   "execution_count": 13,
   "id": "7ddba6c6-25f5-4956-b38c-f1afb77cef82",
   "metadata": {},
   "outputs": [
    {
     "name": "stdout",
     "output_type": "stream",
     "text": [
      "Posibles nombres para la columna 'Monto de Inversión Actualizado':\n",
      "['monto_viable_actualizado']\n"
     ]
    }
   ],
   "source": [
    "# Obtenemos la lista de todas las columnas en nuestro DataFrame de Puno\n",
    "todas_las_columnas = df_puno.columns.tolist()\n",
    "\n",
    "# Buscamos columnas que contengan las palabras clave 'monto', 'inversion', 'actualizado'\n",
    "columnas_relevantes = [col for col in todas_las_columnas if 'monto' in col and ('inversion' in col or 'actualizado' in col)]\n",
    "\n",
    "print(\"Posibles nombres para la columna 'Monto de Inversión Actualizado':\")\n",
    "print(columnas_relevantes)"
   ]
  },
  {
   "cell_type": "code",
   "execution_count": 16,
   "id": "8bfcde51-7a9b-4ebf-b0b5-7e6a12ce0450",
   "metadata": {},
   "outputs": [
    {
     "name": "stdout",
     "output_type": "stream",
     "text": [
      "\n",
      "--- Paso 3: Definición de la Muestra de Análisis (Sección 4.1 de la Tesis) ---\n",
      "La muestra final para el análisis, según los criterios de la tesis, contiene 4737 registros.\n",
      "\n",
      "Composición de la muestra por modalidad de ejecución:\n",
      "modalidad_de_ejecucion_de_la_obra\n",
      "Administración directa            3500\n",
      "Contrata                          1088\n",
      "Por núcleo ejecutor                144\n",
      "Asociacion Pública Privada APP       3\n",
      "Obras por impuestos                  2\n",
      "Name: count, dtype: int64\n"
     ]
    }
   ],
   "source": [
    "# Tarea 1.3: Definir la muestra de análisis (Corregida con el nombre de columna correcto)\n",
    "print(\"\\n--- Paso 3: Definición de la Muestra de Análisis (Sección 4.1 de la Tesis) ---\")\n",
    "\n",
    "# Filtramos para la muestra final usando el nombre de columna correcto\n",
    "analysis_sample = df_puno[\n",
    "    (df_puno['estado_de_ejecucion'] == 'Finalizado') &\n",
    "    (df_puno['monto_viable/aprobado'] > 0) & \n",
    "    (df_puno['monto_viable_actualizado'].notna())\n",
    "].copy()\n",
    "\n",
    "print(f\"La muestra final para el análisis, según los criterios de la tesis, contiene {len(analysis_sample)} registros.\")\n",
    "\n",
    "# Caracterización de la muestra por modalidad de ejecución\n",
    "print(\"\\nComposición de la muestra por modalidad de ejecución:\")\n",
    "# ¡CORREGIDO! Se eliminó el paréntesis extra al final.\n",
    "print(analysis_sample['modalidad_de_ejecucion_de_la_obra'].value_counts()) "
   ]
  },
  {
   "cell_type": "code",
   "execution_count": 17,
   "id": "ed6710ca-8923-4c4d-a75c-596176dd0058",
   "metadata": {},
   "outputs": [
    {
     "name": "stdout",
     "output_type": "stream",
     "text": [
      "--- Refinando la muestra para el análisis comparativo ---\n",
      "Se han filtrado los datos, eliminando 3649 registros de otras modalidades.\n",
      "La muestra final para la comparación contiene 1088 registros.\n",
      "\n",
      "Composición final de la muestra:\n",
      "modalidad_de_ejecucion_de_la_obra\n",
      "Contrata    1088\n",
      "Name: count, dtype: int64\n"
     ]
    }
   ],
   "source": [
    "# --- Refinamiento Metodológico: Aislar los grupos de comparación ---\n",
    "print(\"--- Refinando la muestra para el análisis comparativo ---\")\n",
    "\n",
    "# Guardamos el número de registros antes del filtro\n",
    "registros_antes = len(analysis_sample)\n",
    "\n",
    "# Nos quedamos únicamente con las dos modalidades de interés para la tesis\n",
    "modalidades_de_interes = ['Administracion Directa', 'Contrata']\n",
    "analysis_sample = analysis_sample[analysis_sample['modalidad_de_ejecucion_de_la_obra'].isin(modalidades_de_interes)].copy()\n",
    "\n",
    "print(f\"Se han filtrado los datos, eliminando {registros_antes - len(analysis_sample)} registros de otras modalidades.\")\n",
    "print(f\"La muestra final para la comparación contiene {len(analysis_sample)} registros.\")\n",
    "print(\"\\nComposición final de la muestra:\")\n",
    "print(analysis_sample['modalidad_de_ejecucion_de_la_obra'].value_counts())"
   ]
  },
  {
   "cell_type": "code",
   "execution_count": 19,
   "id": "64876ead-ef7b-4389-991d-254177cd8d42",
   "metadata": {},
   "outputs": [
    {
     "name": "stdout",
     "output_type": "stream",
     "text": [
      "\n",
      "Indicador 'desviacion_presupuestal_%' calculado.\n",
      "\n",
      "--- Tabla 2: Estadísticas Descriptivas de la Desviación Presupuestal Porcentual (DP%) ---\n"
     ]
    },
    {
     "data": {
      "text/html": [
       "<div>\n",
       "<style scoped>\n",
       "    .dataframe tbody tr th:only-of-type {\n",
       "        vertical-align: middle;\n",
       "    }\n",
       "\n",
       "    .dataframe tbody tr th {\n",
       "        vertical-align: top;\n",
       "    }\n",
       "\n",
       "    .dataframe thead th {\n",
       "        text-align: right;\n",
       "    }\n",
       "</style>\n",
       "<table border=\"1\" class=\"dataframe\">\n",
       "  <thead>\n",
       "    <tr style=\"text-align: right;\">\n",
       "      <th></th>\n",
       "      <th>N</th>\n",
       "      <th>Media (DP%)</th>\n",
       "      <th>Mediana (DP%)</th>\n",
       "      <th>Desv. Estándar</th>\n",
       "      <th>Mínimo</th>\n",
       "      <th>Máximo</th>\n",
       "    </tr>\n",
       "  </thead>\n",
       "  <tbody>\n",
       "    <tr>\n",
       "      <th>Administración Directa</th>\n",
       "      <td>0</td>\n",
       "      <td>NaN</td>\n",
       "      <td>NaN</td>\n",
       "      <td>NaN</td>\n",
       "      <td>NaN</td>\n",
       "      <td>NaN</td>\n",
       "    </tr>\n",
       "    <tr>\n",
       "      <th>Contrata</th>\n",
       "      <td>1088</td>\n",
       "      <td>-100.0</td>\n",
       "      <td>-100.0</td>\n",
       "      <td>0.0</td>\n",
       "      <td>-100.0</td>\n",
       "      <td>-100.0</td>\n",
       "    </tr>\n",
       "  </tbody>\n",
       "</table>\n",
       "</div>"
      ],
      "text/plain": [
       "                           N  Media (DP%)  Mediana (DP%)  Desv. Estándar  \\\n",
       "Administración Directa     0          NaN            NaN             NaN   \n",
       "Contrata                1088       -100.0         -100.0             0.0   \n",
       "\n",
       "                        Mínimo  Máximo  \n",
       "Administración Directa     NaN     NaN  \n",
       "Contrata                -100.0  -100.0  "
      ]
     },
     "metadata": {},
     "output_type": "display_data"
    },
    {
     "name": "stdout",
     "output_type": "stream",
     "text": [
      "\n",
      "Prueba de Normalidad (Shapiro-Wilk):\n",
      "  P-valor para Administración Directa: nan\n",
      "  P-valor para Contrata: 1.0000e+00\n",
      "--> Conclusión: Los datos no son normales (p < 0.05).\n",
      "\n",
      "Prueba de Hipótesis (U de Mann-Whitney) para Desviación Presupuestal:\n",
      "  Estadístico U = nan\n",
      "  p-value = nan\n",
      "--> Conclusión: No existe una diferencia estadísticamente significativa (p >= 0.05).\n"
     ]
    },
    {
     "name": "stderr",
     "output_type": "stream",
     "text": [
      "C:\\Users\\GAMERS\\AppData\\Local\\Temp\\ipykernel_11884\\3989933158.py:29: SmallSampleWarning: One or more sample arguments is too small; all returned values will be NaN. See documentation for sample size requirements.\n",
      "  print(f\"  P-valor para Administración Directa: {shapiro(admin_directa_dp).pvalue:.4e}\")\n",
      "D:\\SEMESTRE ACTUAL 2025-II\\MACHINE LEARNING OPERATIONS - ML Ops\\project-iris\\iris_env\\Lib\\site-packages\\scipy\\stats\\_axis_nan_policy.py:579: UserWarning: scipy.stats.shapiro: Input data has range zero. The results may not be accurate.\n",
      "  res = hypotest_fun_out(*samples, **kwds)\n",
      "C:\\Users\\GAMERS\\AppData\\Local\\Temp\\ipykernel_11884\\3989933158.py:34: SmallSampleWarning: One or more sample arguments is too small; all returned values will be NaN. See documentation for sample size requirements.\n",
      "  u_stat, p_value_dp = mannwhitneyu(admin_directa_dp, contrata_dp, alternative='two-sided')\n"
     ]
    }
   ],
   "source": [
    "# --- Paso 4: Análisis del Cumplimiento Presupuestal (Objetivo Específico 1) ---\n",
    "\n",
    "# 1. Ingeniería de Característica: Desviación Presupuestal Porcentual (DP%)\n",
    "analysis_sample['desviacion_presupuestal_%'] = \\\n",
    "    ((analysis_sample['monto_viable_actualizado'] - analysis_sample['monto_viable/aprobado']) \n",
    "     / analysis_sample['monto_viable/aprobado']) * 100\n",
    "\n",
    "print(\"\\nIndicador 'desviacion_presupuestal_%' calculado.\")\n",
    "\n",
    "# 2. Separar los datos por modalidad\n",
    "admin_directa_dp = analysis_sample[analysis_sample['modalidad_de_ejecucion_de_la_obra'] == 'Administracion Directa']['desviacion_presupuestal_%'].dropna()\n",
    "contrata_dp = analysis_sample[analysis_sample['modalidad_de_ejecucion_de_la_obra'] == 'Contrata']['desviacion_presupuestal_%'].dropna()\n",
    "\n",
    "# 3. Generar la Tabla 2 de la tesis\n",
    "tabla_2_dp = pd.DataFrame({\n",
    "    'Administración Directa': admin_directa_dp.describe(),\n",
    "    'Contrata': contrata_dp.describe()\n",
    "}).T[['count', 'mean', '50%', 'std', 'min', 'max']]\n",
    "\n",
    "tabla_2_dp.rename(columns={'50%': 'Mediana (DP%)', 'count': 'N', 'mean': 'Media (DP%)', \n",
    "                           'std': 'Desv. Estándar', 'min': 'Mínimo', 'max': 'Máximo'}, inplace=True)\n",
    "tabla_2_dp['N'] = tabla_2_dp['N'].astype(int)\n",
    "\n",
    "print(\"\\n--- Tabla 2: Estadísticas Descriptivas de la Desviación Presupuestal Porcentual (DP%) ---\")\n",
    "display(tabla_2_dp.round(2))\n",
    "\n",
    "# 4. Prueba de normalidad\n",
    "print(\"\\nPrueba de Normalidad (Shapiro-Wilk):\")\n",
    "print(f\"  P-valor para Administración Directa: {shapiro(admin_directa_dp).pvalue:.4e}\")\n",
    "print(f\"  P-valor para Contrata: {shapiro(contrata_dp).pvalue:.4e}\")\n",
    "print(\"--> Conclusión: Los datos no son normales (p < 0.05).\")\n",
    "\n",
    "# 5. Prueba de hipótesis\n",
    "u_stat, p_value_dp = mannwhitneyu(admin_directa_dp, contrata_dp, alternative='two-sided')\n",
    "print(\"\\nPrueba de Hipótesis (U de Mann-Whitney) para Desviación Presupuestal:\")\n",
    "print(f\"  Estadístico U = {u_stat:.0f}\")\n",
    "print(f\"  p-value = {p_value_dp:.4f}\")\n",
    "if p_value_dp < 0.05:\n",
    "    print(\"--> Conclusión: Existe una diferencia estadísticamente significativa (p < 0.05).\")\n",
    "else:\n",
    "    print(\"--> Conclusión: No existe una diferencia estadísticamente significativa (p >= 0.05).\")"
   ]
  },
  {
   "cell_type": "markdown",
   "id": "e335ae9b-fd35-4d66-8e7a-bebba0faf8e3",
   "metadata": {},
   "source": [
    "# Análisis Cuantitativo para Tesis: Obras Públicas en Puno (2013-2025)\n",
    "\n",
    "**Autor de la Tesis:** Bach. Fabricio Rigoberto Rodriguez Ascarrunz\n",
    "**Análisis de Datos por:** Ing. Jhon Wilber Ajata Ascarrunz\n",
    "\n",
    "**Objetivo:** Este notebook reproduce el análisis cuantitativo descrito en el Capítulo IV de la tesis. Se parte de la base de datos limpia de INFOBRAS para generar las tablas de resultados y realizar las pruebas de hipótesis que comparan las modalidades de ejecución por Administración Directa y por Contrata, siguiendo estrictamente la metodología y los indicadores definidos en el instrumento de investigación."
   ]
  },
  {
   "cell_type": "code",
   "execution_count": 20,
   "id": "2e20ded0-604b-47a4-932b-2aa31e3d9740",
   "metadata": {},
   "outputs": [
    {
     "name": "stdout",
     "output_type": "stream",
     "text": [
      "Librerías importadas correctamente.\n",
      "\n",
      "Dataset 'infobras_clean_v1.csv' cargado y preparado.\n",
      "Se han aislado 10317 obras correspondientes a la región Puno.\n"
     ]
    }
   ],
   "source": [
    "# --- Paso 1 y 2: Configuración del Entorno y Carga de Datos ---\n",
    "import pandas as pd\n",
    "import numpy as np\n",
    "from scipy.stats import shapiro, mannwhitneyu\n",
    "\n",
    "print(\"Librerías importadas correctamente.\")\n",
    "\n",
    "try:\n",
    "    # Cargamos el resultado de nuestro trabajo de limpieza anterior\n",
    "    df_clean = pd.read_csv('../data/infobras_clean_v1.csv', low_memory=False)\n",
    "    \n",
    "    # Aseguramos que las columnas de fecha clave sean del tipo datetime para futuros análisis\n",
    "    date_cols_to_convert = ['fecha_de_inicio_de_obra', 'fecha_de_finalizacion_real']\n",
    "    for col in date_cols_to_convert:\n",
    "        df_clean[col] = pd.to_datetime(df_clean[col], errors='coerce')\n",
    "    \n",
    "    print(\"\\nDataset 'infobras_clean_v1.csv' cargado y preparado.\")\n",
    "    \n",
    "    # Filtramos para obtener solo los registros de la región Puno\n",
    "    df_puno = df_clean[df_clean['departamento'] == 'PUNO'].copy()\n",
    "    print(f\"Se han aislado {len(df_puno)} obras correspondientes a la región Puno.\")\n",
    "\n",
    "except FileNotFoundError:\n",
    "    print(\"\\nError Crítico: No se encontró el archivo 'infobras_clean_v1.csv' en la carpeta 'data/'.\")\n",
    "    print(\"Asegúrate de que el archivo exista en la ubicación correcta antes de continuar.\")"
   ]
  },
  {
   "cell_type": "code",
   "execution_count": 23,
   "id": "2f7d0307-6676-4450-8665-a63e928cc432",
   "metadata": {},
   "outputs": [
    {
     "name": "stdout",
     "output_type": "stream",
     "text": [
      "Muestra inicial (obras finalizadas en Puno): 411 registros.\n",
      "Muestra refinada para comparación directa: 80 registros.\n",
      "\n",
      "Composición de la muestra final por modalidad:\n",
      "modalidad_de_ejecucion_de_la_obra\n",
      "Contrata    80\n",
      "Name: count, dtype: int64\n"
     ]
    }
   ],
   "source": [
    "# --- Paso 3: Definición y Refinamiento de la Muestra de Análisis (Sección 4.1) ---\n",
    "\n",
    "# 1. Filtro inicial para obras finalizadas con datos válidos\n",
    "# **USAREMOS 'monto_de_ejecucion_financiera_de_la_obra' COMO CRITERIO, YA QUE ES LA VARIABLE FINAL CORRECTA**\n",
    "initial_sample = df_puno[\n",
    "    (df_puno['estado_de_ejecucion'] == 'Finalizado') &\n",
    "    (df_puno['monto_viable/aprobado'] > 0) & \n",
    "    (df_puno['monto_de_ejecucion_financiera_de_la_obra'].notna()) # <-- ¡LA CORRECCIÓN MÁS IMPORTANTE!\n",
    "].copy()\n",
    "\n",
    "print(f\"Muestra inicial (obras finalizadas en Puno): {len(initial_sample)} registros.\")\n",
    "\n",
    "# 2. Refinamiento metodológico: Aislar solo los grupos de comparación de la tesis\n",
    "modalidades_de_interes = ['Administracion Directa', 'Contrata']\n",
    "analysis_sample = initial_sample[initial_sample['modalidad_de_ejecucion_de_la_obra'].isin(modalidades_de_interes)].copy()\n",
    "\n",
    "print(f\"Muestra refinada para comparación directa: {len(analysis_sample)} registros.\")\n",
    "\n",
    "# 3. Caracterización de la muestra final\n",
    "print(\"\\nComposición de la muestra final por modalidad:\")\n",
    "print(analysis_sample['modalidad_de_ejecucion_de_la_obra'].value_counts())"
   ]
  },
  {
   "cell_type": "code",
   "execution_count": 24,
   "id": "bbbcb628-ad6e-4483-bace-d48abf85965e",
   "metadata": {},
   "outputs": [
    {
     "name": "stdout",
     "output_type": "stream",
     "text": [
      "\n",
      "Indicador 'desviacion_presupuestal_%' calculado con las variables correctas.\n",
      "\n",
      "--- Tabla 2: Estadísticas Descriptivas de la Desviación Presupuestal Porcentual (DP%) ---\n"
     ]
    },
    {
     "data": {
      "text/html": [
       "<div>\n",
       "<style scoped>\n",
       "    .dataframe tbody tr th:only-of-type {\n",
       "        vertical-align: middle;\n",
       "    }\n",
       "\n",
       "    .dataframe tbody tr th {\n",
       "        vertical-align: top;\n",
       "    }\n",
       "\n",
       "    .dataframe thead th {\n",
       "        text-align: right;\n",
       "    }\n",
       "</style>\n",
       "<table border=\"1\" class=\"dataframe\">\n",
       "  <thead>\n",
       "    <tr style=\"text-align: right;\">\n",
       "      <th></th>\n",
       "      <th>N</th>\n",
       "      <th>Media (DP%)</th>\n",
       "      <th>Mediana (DP%)</th>\n",
       "      <th>Desv. Estándar</th>\n",
       "      <th>Mínimo</th>\n",
       "      <th>Máximo</th>\n",
       "    </tr>\n",
       "  </thead>\n",
       "  <tbody>\n",
       "    <tr>\n",
       "      <th>Administración Directa</th>\n",
       "      <td>0</td>\n",
       "      <td>NaN</td>\n",
       "      <td>NaN</td>\n",
       "      <td>NaN</td>\n",
       "      <td>NaN</td>\n",
       "      <td>NaN</td>\n",
       "    </tr>\n",
       "    <tr>\n",
       "      <th>Contrata</th>\n",
       "      <td>80</td>\n",
       "      <td>-7.24</td>\n",
       "      <td>-10.2</td>\n",
       "      <td>127.65</td>\n",
       "      <td>-100.0</td>\n",
       "      <td>1010.66</td>\n",
       "    </tr>\n",
       "  </tbody>\n",
       "</table>\n",
       "</div>"
      ],
      "text/plain": [
       "                         N  Media (DP%)  Mediana (DP%)  Desv. Estándar  \\\n",
       "Administración Directa   0          NaN            NaN             NaN   \n",
       "Contrata                80        -7.24          -10.2          127.65   \n",
       "\n",
       "                        Mínimo   Máximo  \n",
       "Administración Directa     NaN      NaN  \n",
       "Contrata                -100.0  1010.66  "
      ]
     },
     "metadata": {},
     "output_type": "display_data"
    },
    {
     "name": "stdout",
     "output_type": "stream",
     "text": [
      "\n",
      "Prueba de Normalidad (Shapiro-Wilk):\n",
      "  P-valor para Administración Directa: nan\n",
      "  P-valor para Contrata: 3.0149e-16\n",
      "--> Conclusión: Los datos no son normales (p < 0.05).\n",
      "\n",
      "Prueba de Hipótesis (U de Mann-Whitney) para Desviación Presupuestal:\n",
      "  Estadístico U = nan\n",
      "  p-value = nan\n",
      "--> Conclusión: No existe una diferencia estadísticamente significativa (p >= 0.05).\n"
     ]
    },
    {
     "name": "stderr",
     "output_type": "stream",
     "text": [
      "C:\\Users\\GAMERS\\AppData\\Local\\Temp\\ipykernel_11884\\3763513936.py:30: SmallSampleWarning: One or more sample arguments is too small; all returned values will be NaN. See documentation for sample size requirements.\n",
      "  print(f\"  P-valor para Administración Directa: {shapiro(admin_directa_dp).pvalue:.4e}\")\n",
      "C:\\Users\\GAMERS\\AppData\\Local\\Temp\\ipykernel_11884\\3763513936.py:35: SmallSampleWarning: One or more sample arguments is too small; all returned values will be NaN. See documentation for sample size requirements.\n",
      "  u_stat, p_value_dp = mannwhitneyu(admin_directa_dp, contrata_dp, alternative='two-sided')\n"
     ]
    }
   ],
   "source": [
    "# --- Paso 4: Análisis del Cumplimiento Presupuestal (Objetivo Específico 1) ---\n",
    "\n",
    "# 1. Ingeniería de Característica: Desviación Presupuestal Porcentual (DP%)\n",
    "# **USANDO LA VARIABLE CORRECTA PARA EL COSTO FINAL**\n",
    "analysis_sample['desviacion_presupuestal_%'] = \\\n",
    "    ((analysis_sample['monto_de_ejecucion_financiera_de_la_obra'] - analysis_sample['monto_viable/aprobado']) \n",
    "     / analysis_sample['monto_viable/aprobado']) * 100\n",
    "\n",
    "print(\"\\nIndicador 'desviacion_presupuestal_%' calculado con las variables correctas.\")\n",
    "\n",
    "# 2. Separar los datos por modalidad\n",
    "admin_directa_dp = analysis_sample[analysis_sample['modalidad_de_ejecucion_de_la_obra'] == 'Administracion Directa']['desviacion_presupuestal_%'].dropna()\n",
    "contrata_dp = analysis_sample[analysis_sample['modalidad_de_ejecucion_de_la_obra'] == 'Contrata']['desviacion_presupuestal_%'].dropna()\n",
    "\n",
    "# 3. Generar la Tabla 2 de la tesis\n",
    "tabla_2_dp = pd.DataFrame({\n",
    "    'Administración Directa': admin_directa_dp.describe(),\n",
    "    'Contrata': contrata_dp.describe()\n",
    "}).T[['count', 'mean', '50%', 'std', 'min', 'max']]\n",
    "\n",
    "tabla_2_dp.rename(columns={'50%': 'Mediana (DP%)', 'count': 'N', 'mean': 'Media (DP%)', \n",
    "                           'std': 'Desv. Estándar', 'min': 'Mínimo', 'max': 'Máximo'}, inplace=True)\n",
    "tabla_2_dp['N'] = tabla_2_dp['N'].astype(int)\n",
    "\n",
    "print(\"\\n--- Tabla 2: Estadísticas Descriptivas de la Desviación Presupuestal Porcentual (DP%) ---\")\n",
    "display(tabla_2_dp.round(2))\n",
    "\n",
    "# 4. Prueba de normalidad\n",
    "print(\"\\nPrueba de Normalidad (Shapiro-Wilk):\")\n",
    "print(f\"  P-valor para Administración Directa: {shapiro(admin_directa_dp).pvalue:.4e}\")\n",
    "print(f\"  P-valor para Contrata: {shapiro(contrata_dp).pvalue:.4e}\")\n",
    "print(\"--> Conclusión: Los datos no son normales (p < 0.05).\")\n",
    "\n",
    "# 5. Prueba de hipótesis\n",
    "u_stat, p_value_dp = mannwhitneyu(admin_directa_dp, contrata_dp, alternative='two-sided')\n",
    "print(\"\\nPrueba de Hipótesis (U de Mann-Whitney) para Desviación Presupuestal:\")\n",
    "print(f\"  Estadístico U = {u_stat:.0f}\")\n",
    "print(f\"  p-value = {p_value_dp:.4f}\")\n",
    "if p_value_dp < 0.05:\n",
    "    print(\"--> Conclusión: Existe una diferencia estadísticamente significativa (p < 0.05).\")\n",
    "else:\n",
    "    print(\"--> Conclusión: No existe una diferencia estadísticamente significativa (p >= 0.05).\")"
   ]
  },
  {
   "cell_type": "code",
   "execution_count": 25,
   "id": "e7704b2c-568d-4502-81ef-b55c0d352947",
   "metadata": {},
   "outputs": [
    {
     "name": "stdout",
     "output_type": "stream",
     "text": [
      "--- ANÁLISIS PARA 'ADMINISTRACIÓN DIRECTA' en PUNO ---\n",
      "Total de obras por Adm. Directa: 0\n",
      "Obras con monto de ejecución financiera: 0\n",
      "\n",
      "Estado de ejecución de las obras por Adm. Directa QUE SÍ TIENEN MONTO:\n",
      "Series([], Name: count, dtype: int64)\n",
      "\n",
      "\n",
      "--- ANÁLISIS PARA 'CONTRATA' en PUNO ---\n",
      "Total de obras por Contrata: 2311\n",
      "Obras con monto de ejecución financiera: 122\n",
      "\n",
      "Estado de ejecución de las obras por Contrata QUE SÍ TIENEN MONTO:\n",
      "estado_de_ejecucion\n",
      "Finalizado      105\n",
      "En Ejecución     17\n",
      "Name: count, dtype: int64\n"
     ]
    }
   ],
   "source": [
    "# --- Celda de Detective Definitiva: Interrogando a las Modalidades por Separado ---\n",
    "\n",
    "print(\"--- ANÁLISIS PARA 'ADMINISTRACIÓN DIRECTA' en PUNO ---\")\n",
    "df_ad = df_puno[df_puno['modalidad_de_ejecucion_de_la_obra'] == 'Administracion Directa']\n",
    "print(f\"Total de obras por Adm. Directa: {len(df_ad)}\")\n",
    "# ¿Cuántas obras por Adm. Directa tienen un monto de ejecución?\n",
    "print(f\"Obras con monto de ejecución financiera: {df_ad['monto_de_ejecucion_financiera_de_la_obra'].notna().sum()}\")\n",
    "# ¿Qué estado tienen las que SÍ tienen monto de ejecución?\n",
    "print(\"\\nEstado de ejecución de las obras por Adm. Directa QUE SÍ TIENEN MONTO:\")\n",
    "print(df_ad[df_ad['monto_de_ejecucion_financiera_de_la_obra'].notna()]['estado_de_ejecucion'].value_counts())\n",
    "\n",
    "\n",
    "print(\"\\n\\n--- ANÁLISIS PARA 'CONTRATA' en PUNO ---\")\n",
    "df_co = df_puno[df_puno['modalidad_de_ejecucion_de_la_obra'] == 'Contrata']\n",
    "print(f\"Total de obras por Contrata: {len(df_co)}\")\n",
    "# ¿Cuántas obras por Contrata tienen un monto de ejecución?\n",
    "print(f\"Obras con monto de ejecución financiera: {df_co['monto_de_ejecucion_financiera_de_la_obra'].notna().sum()}\")\n",
    "# ¿Qué estado tienen las que SÍ tienen monto de ejecución?\n",
    "print(\"\\nEstado de ejecución de las obras por Contrata QUE SÍ TIENEN MONTO:\")\n",
    "print(df_co[df_co['monto_de_ejecucion_financiera_de_la_obra'].notna()]['estado_de_ejecucion'].value_counts())"
   ]
  },
  {
   "cell_type": "code",
   "execution_count": 26,
   "id": "521ff8a7-31d6-4e2b-b0f1-50a2959533c3",
   "metadata": {},
   "outputs": [
    {
     "name": "stdout",
     "output_type": "stream",
     "text": [
      "Librerías importadas.\n",
      "\n",
      "Dataset 'infobras_clean_v1.csv' cargado y BLINDADO.\n",
      "Se han aislado 10317 obras de Puno.\n",
      "\n",
      "Composición por modalidad en Puno (DESPUÉS DEL BLINDAJE):\n",
      "modalidad_de_ejecucion_de_la_obra\n",
      "Administración directa            7705\n",
      "Contrata                          2311\n",
      "Por núcleo ejecutor                281\n",
      "Asociacion Pública Privada APP      13\n",
      "Obras por impuestos                  4\n",
      "Por convenio entre entidades         2\n",
      "Con organismo internacional          1\n",
      "Name: count, dtype: int64\n"
     ]
    }
   ],
   "source": [
    "# --- Paso 1 y 2: Configuración, Carga y BLINDAJE de Datos ---\n",
    "import pandas as pd\n",
    "import numpy as np\n",
    "from scipy.stats import shapiro, mannwhitneyu\n",
    "\n",
    "print(\"Librerías importadas.\")\n",
    "\n",
    "try:\n",
    "    df_clean = pd.read_csv('../data/infobras_clean_v1.csv', low_memory=False)\n",
    "    \n",
    "    # --- PASO DE BLINDAJE ---\n",
    "    # Limpiamos espacios en blanco al inicio y al final de todas las columnas de texto.\n",
    "    # Esta es la causa más común de errores de filtrado.\n",
    "    for col in df_clean.select_dtypes(include=['object']).columns:\n",
    "        df_clean[col] = df_clean[col].str.strip()\n",
    "    \n",
    "    # Aseguramos fechas\n",
    "    date_cols_to_convert = ['fecha_de_inicio_de_obra', 'fecha_de_finalizacion_real']\n",
    "    for col in date_cols_to_convert:\n",
    "        df_clean[col] = pd.to_datetime(df_clean[col], errors='coerce')\n",
    "    \n",
    "    print(\"\\nDataset 'infobras_clean_v1.csv' cargado y BLINDADO.\")\n",
    "    \n",
    "    # Filtramos para Puno (ahora el filtro será robusto)\n",
    "    df_puno = df_clean[df_clean['departamento'] == 'PUNO'].copy()\n",
    "    print(f\"Se han aislado {len(df_puno)} obras de Puno.\")\n",
    "    print(\"\\nComposición por modalidad en Puno (DESPUÉS DEL BLINDAJE):\")\n",
    "    print(df_puno['modalidad_de_ejecucion_de_la_obra'].value_counts())\n",
    "\n",
    "\n",
    "except FileNotFoundError:\n",
    "    print(\"\\nError Crítico: No se encontró 'infobras_clean_v1.csv'.\")"
   ]
  },
  {
   "cell_type": "code",
   "execution_count": 27,
   "id": "c8b4af6f-6cb2-45dc-8884-d418f7af6105",
   "metadata": {},
   "outputs": [
    {
     "name": "stdout",
     "output_type": "stream",
     "text": [
      "Muestra refinada para comparación directa: 80 registros.\n",
      "\n",
      "Composición de la muestra final por modalidad:\n",
      "modalidad_de_ejecucion_de_la_obra\n",
      "Contrata    80\n",
      "Name: count, dtype: int64\n"
     ]
    }
   ],
   "source": [
    "# --- Paso 3: Definición de la Muestra de Análisis ---\n",
    "initial_sample = df_puno[\n",
    "    (df_puno['estado_de_ejecucion'] == 'Finalizado') &\n",
    "    (df_puno['monto_viable/aprobado'] > 0) & \n",
    "    (df_puno['monto_de_ejecucion_financiera_de_la_obra'].notna())\n",
    "].copy()\n",
    "\n",
    "modalidades_de_interes = ['Administracion Directa', 'Contrata']\n",
    "analysis_sample = initial_sample[initial_sample['modalidad_de_ejecucion_de_la_obra'].isin(modalidades_de_interes)].copy()\n",
    "\n",
    "print(f\"Muestra refinada para comparación directa: {len(analysis_sample)} registros.\")\n",
    "print(\"\\nComposición de la muestra final por modalidad:\")\n",
    "print(analysis_sample['modalidad_de_ejecucion_de_la_obra'].value_counts())"
   ]
  },
  {
   "cell_type": "code",
   "execution_count": 28,
   "id": "f09f9f70-378f-4b8e-852b-37a57bb761d8",
   "metadata": {},
   "outputs": [
    {
     "name": "stdout",
     "output_type": "stream",
     "text": [
      "\n",
      "--- Tabla 2: Estadísticas Descriptivas ---\n"
     ]
    },
    {
     "data": {
      "text/html": [
       "<div>\n",
       "<style scoped>\n",
       "    .dataframe tbody tr th:only-of-type {\n",
       "        vertical-align: middle;\n",
       "    }\n",
       "\n",
       "    .dataframe tbody tr th {\n",
       "        vertical-align: top;\n",
       "    }\n",
       "\n",
       "    .dataframe thead th {\n",
       "        text-align: right;\n",
       "    }\n",
       "</style>\n",
       "<table border=\"1\" class=\"dataframe\">\n",
       "  <thead>\n",
       "    <tr style=\"text-align: right;\">\n",
       "      <th></th>\n",
       "      <th>N</th>\n",
       "      <th>Media (DP%)</th>\n",
       "      <th>Mediana (DP%)</th>\n",
       "      <th>Desv. Estándar</th>\n",
       "      <th>Mínimo</th>\n",
       "      <th>Máximo</th>\n",
       "    </tr>\n",
       "  </thead>\n",
       "  <tbody>\n",
       "    <tr>\n",
       "      <th>Administración Directa</th>\n",
       "      <td>0</td>\n",
       "      <td>NaN</td>\n",
       "      <td>NaN</td>\n",
       "      <td>NaN</td>\n",
       "      <td>NaN</td>\n",
       "      <td>NaN</td>\n",
       "    </tr>\n",
       "    <tr>\n",
       "      <th>Contrata</th>\n",
       "      <td>80</td>\n",
       "      <td>-7.24</td>\n",
       "      <td>-10.2</td>\n",
       "      <td>127.65</td>\n",
       "      <td>-100.0</td>\n",
       "      <td>1010.66</td>\n",
       "    </tr>\n",
       "  </tbody>\n",
       "</table>\n",
       "</div>"
      ],
      "text/plain": [
       "                         N  Media (DP%)  Mediana (DP%)  Desv. Estándar  \\\n",
       "Administración Directa   0          NaN            NaN             NaN   \n",
       "Contrata                80        -7.24          -10.2          127.65   \n",
       "\n",
       "                        Mínimo   Máximo  \n",
       "Administración Directa     NaN      NaN  \n",
       "Contrata                -100.0  1010.66  "
      ]
     },
     "metadata": {},
     "output_type": "display_data"
    },
    {
     "name": "stdout",
     "output_type": "stream",
     "text": [
      "\n",
      "Resultado Prueba U de Mann-Whitney: p-value = nan\n"
     ]
    },
    {
     "name": "stderr",
     "output_type": "stream",
     "text": [
      "C:\\Users\\GAMERS\\AppData\\Local\\Temp\\ipykernel_11884\\649113193.py:20: SmallSampleWarning: One or more sample arguments is too small; all returned values will be NaN. See documentation for sample size requirements.\n",
      "  u_stat, p_value_dp = mannwhitneyu(admin_directa_dp, contrata_dp, alternative='two-sided')\n"
     ]
    }
   ],
   "source": [
    "# --- Paso 4: Análisis del Cumplimiento Presupuestal ---\n",
    "analysis_sample['desviacion_presupuestal_%'] = \\\n",
    "    ((analysis_sample['monto_de_ejecucion_financiera_de_la_obra'] - analysis_sample['monto_viable/aprobado']) \n",
    "     / analysis_sample['monto_viable/aprobado']) * 100\n",
    "\n",
    "admin_directa_dp = analysis_sample[analysis_sample['modalidad_de_ejecucion_de_la_obra'] == 'Administracion Directa']['desviacion_presupuestal_%'].dropna()\n",
    "contrata_dp = analysis_sample[analysis_sample['modalidad_de_ejecucion_de_la_obra'] == 'Contrata']['desviacion_presupuestal_%'].dropna()\n",
    "\n",
    "tabla_2_dp = pd.DataFrame({\n",
    "    'Administración Directa': admin_directa_dp.describe(),\n",
    "    'Contrata': contrata_dp.describe()\n",
    "}).T[['count', 'mean', '50%', 'std', 'min', 'max']]\n",
    "tabla_2_dp.rename(columns={'50%': 'Mediana (DP%)', 'count': 'N', 'mean': 'Media (DP%)', \n",
    "                           'std': 'Desv. Estándar', 'min': 'Mínimo', 'max': 'Máximo'}, inplace=True)\n",
    "tabla_2_dp['N'] = tabla_2_dp['N'].astype(int)\n",
    "\n",
    "print(\"\\n--- Tabla 2: Estadísticas Descriptivas ---\")\n",
    "display(tabla_2_dp.round(2))\n",
    "\n",
    "u_stat, p_value_dp = mannwhitneyu(admin_directa_dp, contrata_dp, alternative='two-sided')\n",
    "print(f\"\\nResultado Prueba U de Mann-Whitney: p-value = {p_value_dp:.4f}\")"
   ]
  },
  {
   "cell_type": "code",
   "execution_count": 29,
   "id": "22b07633-5a09-4198-9889-116ae17fd129",
   "metadata": {},
   "outputs": [
    {
     "name": "stdout",
     "output_type": "stream",
     "text": [
      "Librerías importadas.\n",
      "\n",
      "Dataset 'infobras_clean_v1.csv' cargado y BLINDADO.\n",
      "Se han aislado 10317 obras de Puno.\n",
      "\n",
      "Composición por modalidad en Puno (DESPUÉS DEL BLINDAJE):\n",
      "modalidad_de_ejecucion_de_la_obra\n",
      "Administración directa            7705\n",
      "Contrata                          2311\n",
      "Por núcleo ejecutor                281\n",
      "Asociacion Pública Privada APP      13\n",
      "Obras por impuestos                  4\n",
      "Por convenio entre entidades         2\n",
      "Con organismo internacional          1\n",
      "Name: count, dtype: int64\n"
     ]
    }
   ],
   "source": [
    "# --- Paso 1 y 2: Configuración, Carga y BLINDAJE de Datos ---\n",
    "import pandas as pd\n",
    "import numpy as np\n",
    "from scipy.stats import shapiro, mannwhitneyu\n",
    "\n",
    "print(\"Librerías importadas.\")\n",
    "\n",
    "try:\n",
    "    df_clean = pd.read_csv('../data/infobras_clean_v1.csv', low_memory=False)\n",
    "    \n",
    "    # --- PASO DE BLINDAJE ---\n",
    "    # Limpiamos espacios en blanco al inicio y al final de todas las columnas de texto.\n",
    "    # Esta es la causa más común de errores de filtrado.\n",
    "    for col in df_clean.select_dtypes(include=['object']).columns:\n",
    "        df_clean[col] = df_clean[col].str.strip()\n",
    "    \n",
    "    # Aseguramos fechas\n",
    "    date_cols_to_convert = ['fecha_de_inicio_de_obra', 'fecha_de_finalizacion_real']\n",
    "    for col in date_cols_to_convert:\n",
    "        df_clean[col] = pd.to_datetime(df_clean[col], errors='coerce')\n",
    "    \n",
    "    print(\"\\nDataset 'infobras_clean_v1.csv' cargado y BLINDADO.\")\n",
    "    \n",
    "    # Filtramos para Puno (ahora el filtro será robusto)\n",
    "    df_puno = df_clean[df_clean['departamento'] == 'PUNO'].copy()\n",
    "    print(f\"Se han aislado {len(df_puno)} obras de Puno.\")\n",
    "    print(\"\\nComposición por modalidad en Puno (DESPUÉS DEL BLINDAJE):\")\n",
    "    print(df_puno['modalidad_de_ejecucion_de_la_obra'].value_counts())\n",
    "\n",
    "\n",
    "except FileNotFoundError:\n",
    "    print(\"\\nError Crítico: No se encontró 'infobras_clean_v1.csv'.\")"
   ]
  },
  {
   "cell_type": "code",
   "execution_count": 30,
   "id": "f6dd471a-f8d4-43a6-a18f-11b9b9cd1d35",
   "metadata": {},
   "outputs": [
    {
     "name": "stdout",
     "output_type": "stream",
     "text": [
      "Muestra refinada para comparación directa: 80 registros.\n",
      "\n",
      "Composición de la muestra final por modalidad:\n",
      "modalidad_de_ejecucion_de_la_obra\n",
      "Contrata    80\n",
      "Name: count, dtype: int64\n"
     ]
    }
   ],
   "source": [
    "# --- Paso 3: Definición de la Muestra de Análisis ---\n",
    "initial_sample = df_puno[\n",
    "    (df_puno['estado_de_ejecucion'] == 'Finalizado') &\n",
    "    (df_puno['monto_viable/aprobado'] > 0) & \n",
    "    (df_puno['monto_de_ejecucion_financiera_de_la_obra'].notna())\n",
    "].copy()\n",
    "\n",
    "modalidades_de_interes = ['Administracion Directa', 'Contrata']\n",
    "analysis_sample = initial_sample[initial_sample['modalidad_de_ejecucion_de_la_obra'].isin(modalidades_de_interes)].copy()\n",
    "\n",
    "print(f\"Muestra refinada para comparación directa: {len(analysis_sample)} registros.\")\n",
    "print(\"\\nComposición de la muestra final por modalidad:\")\n",
    "print(analysis_sample['modalidad_de_ejecucion_de_la_obra'].value_counts())"
   ]
  },
  {
   "cell_type": "code",
   "execution_count": 31,
   "id": "013504d1-bab2-44bb-a10a-cb03f5f9e013",
   "metadata": {},
   "outputs": [
    {
     "name": "stdout",
     "output_type": "stream",
     "text": [
      "\n",
      "--- Tabla 2: Estadísticas Descriptivas ---\n"
     ]
    },
    {
     "data": {
      "text/html": [
       "<div>\n",
       "<style scoped>\n",
       "    .dataframe tbody tr th:only-of-type {\n",
       "        vertical-align: middle;\n",
       "    }\n",
       "\n",
       "    .dataframe tbody tr th {\n",
       "        vertical-align: top;\n",
       "    }\n",
       "\n",
       "    .dataframe thead th {\n",
       "        text-align: right;\n",
       "    }\n",
       "</style>\n",
       "<table border=\"1\" class=\"dataframe\">\n",
       "  <thead>\n",
       "    <tr style=\"text-align: right;\">\n",
       "      <th></th>\n",
       "      <th>N</th>\n",
       "      <th>Media (DP%)</th>\n",
       "      <th>Mediana (DP%)</th>\n",
       "      <th>Desv. Estándar</th>\n",
       "      <th>Mínimo</th>\n",
       "      <th>Máximo</th>\n",
       "    </tr>\n",
       "  </thead>\n",
       "  <tbody>\n",
       "    <tr>\n",
       "      <th>Administración Directa</th>\n",
       "      <td>0</td>\n",
       "      <td>NaN</td>\n",
       "      <td>NaN</td>\n",
       "      <td>NaN</td>\n",
       "      <td>NaN</td>\n",
       "      <td>NaN</td>\n",
       "    </tr>\n",
       "    <tr>\n",
       "      <th>Contrata</th>\n",
       "      <td>80</td>\n",
       "      <td>-7.24</td>\n",
       "      <td>-10.2</td>\n",
       "      <td>127.65</td>\n",
       "      <td>-100.0</td>\n",
       "      <td>1010.66</td>\n",
       "    </tr>\n",
       "  </tbody>\n",
       "</table>\n",
       "</div>"
      ],
      "text/plain": [
       "                         N  Media (DP%)  Mediana (DP%)  Desv. Estándar  \\\n",
       "Administración Directa   0          NaN            NaN             NaN   \n",
       "Contrata                80        -7.24          -10.2          127.65   \n",
       "\n",
       "                        Mínimo   Máximo  \n",
       "Administración Directa     NaN      NaN  \n",
       "Contrata                -100.0  1010.66  "
      ]
     },
     "metadata": {},
     "output_type": "display_data"
    },
    {
     "name": "stdout",
     "output_type": "stream",
     "text": [
      "\n",
      "Resultado Prueba U de Mann-Whitney: p-value = nan\n"
     ]
    },
    {
     "name": "stderr",
     "output_type": "stream",
     "text": [
      "C:\\Users\\GAMERS\\AppData\\Local\\Temp\\ipykernel_11884\\649113193.py:20: SmallSampleWarning: One or more sample arguments is too small; all returned values will be NaN. See documentation for sample size requirements.\n",
      "  u_stat, p_value_dp = mannwhitneyu(admin_directa_dp, contrata_dp, alternative='two-sided')\n"
     ]
    }
   ],
   "source": [
    "# --- Paso 4: Análisis del Cumplimiento Presupuestal ---\n",
    "analysis_sample['desviacion_presupuestal_%'] = \\\n",
    "    ((analysis_sample['monto_de_ejecucion_financiera_de_la_obra'] - analysis_sample['monto_viable/aprobado']) \n",
    "     / analysis_sample['monto_viable/aprobado']) * 100\n",
    "\n",
    "admin_directa_dp = analysis_sample[analysis_sample['modalidad_de_ejecucion_de_la_obra'] == 'Administracion Directa']['desviacion_presupuestal_%'].dropna()\n",
    "contrata_dp = analysis_sample[analysis_sample['modalidad_de_ejecucion_de_la_obra'] == 'Contrata']['desviacion_presupuestal_%'].dropna()\n",
    "\n",
    "tabla_2_dp = pd.DataFrame({\n",
    "    'Administración Directa': admin_directa_dp.describe(),\n",
    "    'Contrata': contrata_dp.describe()\n",
    "}).T[['count', 'mean', '50%', 'std', 'min', 'max']]\n",
    "tabla_2_dp.rename(columns={'50%': 'Mediana (DP%)', 'count': 'N', 'mean': 'Media (DP%)', \n",
    "                           'std': 'Desv. Estándar', 'min': 'Mínimo', 'max': 'Máximo'}, inplace=True)\n",
    "tabla_2_dp['N'] = tabla_2_dp['N'].astype(int)\n",
    "\n",
    "print(\"\\n--- Tabla 2: Estadísticas Descriptivas ---\")\n",
    "display(tabla_2_dp.round(2))\n",
    "\n",
    "u_stat, p_value_dp = mannwhitneyu(admin_directa_dp, contrata_dp, alternative='two-sided')\n",
    "print(f\"\\nResultado Prueba U de Mann-Whitney: p-value = {p_value_dp:.4f}\")"
   ]
  },
  {
   "cell_type": "code",
   "execution_count": 32,
   "id": "191871c5-cf9d-4cc6-9b54-695bfd6528b9",
   "metadata": {},
   "outputs": [
    {
     "name": "stdout",
     "output_type": "stream",
     "text": [
      "--- ANÁLISIS PARA 'ADMINISTRACIÓN DIRECTA' en PUNO ---\n",
      "Total de obras por Adm. Directa: 0\n",
      "Obras con monto de ejecución financiera: 0\n",
      "\n",
      "Estado de ejecución de las obras por Adm. Directa QUE SÍ TIENEN MONTO:\n",
      "Series([], Name: count, dtype: int64)\n",
      "\n",
      "\n",
      "--- ANÁLISIS PARA 'CONTRATA' en PUNO ---\n",
      "Total de obras por Contrata: 2311\n",
      "Obras con monto de ejecución financiera: 122\n",
      "\n",
      "Estado de ejecución de las obras por Contrata QUE SÍ TIENEN MONTO:\n",
      "estado_de_ejecucion\n",
      "Finalizado      105\n",
      "En Ejecución     17\n",
      "Name: count, dtype: int64\n"
     ]
    }
   ],
   "source": [
    "# --- Celda de Detective Definitiva: Interrogando a las Modalidades por Separado ---\n",
    "\n",
    "print(\"--- ANÁLISIS PARA 'ADMINISTRACIÓN DIRECTA' en PUNO ---\")\n",
    "df_ad = df_puno[df_puno['modalidad_de_ejecucion_de_la_obra'] == 'Administracion Directa']\n",
    "print(f\"Total de obras por Adm. Directa: {len(df_ad)}\")\n",
    "# ¿Cuántas obras por Adm. Directa tienen un monto de ejecución?\n",
    "print(f\"Obras con monto de ejecución financiera: {df_ad['monto_de_ejecucion_financiera_de_la_obra'].notna().sum()}\")\n",
    "# ¿Qué estado tienen las que SÍ tienen monto de ejecución?\n",
    "print(\"\\nEstado de ejecución de las obras por Adm. Directa QUE SÍ TIENEN MONTO:\")\n",
    "print(df_ad[df_ad['monto_de_ejecucion_financiera_de_la_obra'].notna()]['estado_de_ejecucion'].value_counts())\n",
    "\n",
    "\n",
    "print(\"\\n\\n--- ANÁLISIS PARA 'CONTRATA' en PUNO ---\")\n",
    "df_co = df_puno[df_puno['modalidad_de_ejecucion_de_la_obra'] == 'Contrata']\n",
    "print(f\"Total de obras por Contrata: {len(df_co)}\")\n",
    "# ¿Cuántas obras por Contrata tienen un monto de ejecución?\n",
    "print(f\"Obras con monto de ejecución financiera: {df_co['monto_de_ejecucion_financiera_de_la_obra'].notna().sum()}\")\n",
    "# ¿Qué estado tienen las que SÍ tienen monto de ejecución?\n",
    "print(\"\\nEstado de ejecución de las obras por Contrata QUE SÍ TIENEN MONTO:\")\n",
    "print(df_co[df_co['monto_de_ejecucion_financiera_de_la_obra'].notna()]['estado_de_ejecucion'].value_counts())"
   ]
  },
  {
   "cell_type": "code",
   "execution_count": null,
   "id": "9cd44ff9-df4f-420b-9f90-c1801d79a4db",
   "metadata": {},
   "outputs": [],
   "source": []
  }
 ],
 "metadata": {
  "kernelspec": {
   "display_name": "Python 3 (ipykernel)",
   "language": "python",
   "name": "python3"
  },
  "language_info": {
   "codemirror_mode": {
    "name": "ipython",
    "version": 3
   },
   "file_extension": ".py",
   "mimetype": "text/x-python",
   "name": "python",
   "nbconvert_exporter": "python",
   "pygments_lexer": "ipython3",
   "version": "3.12.6"
  }
 },
 "nbformat": 4,
 "nbformat_minor": 5
}
