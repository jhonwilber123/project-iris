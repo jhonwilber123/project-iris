{
 "cells": [
  {
   "cell_type": "markdown",
   "id": "f2b20d61-f30a-4b71-ba4c-780bc0d286c6",
   "metadata": {},
   "source": [
    "# Análisis Cuantitativo para Tesis: Obras Públicas en Puno (2013-2025)\n",
    "\n",
    "**Autor de la Tesis:** Bach. Fabricio Rigoberto Rodriguez Ascarrunz\n",
    "**Análisis de Datos por:** Ing. Jhon Wilber Ajata Ascarrunz\n",
    "\n",
    "**Objetivo:** Este notebook reproduce el análisis cuantitativo descrito en el Capítulo IV de la tesis. Se parte de la base de datos **certificada** de INFOBRAS para generar las tablas de resultados y realizar las pruebas de hipótesis que comparan las modalidades de ejecución por Administración Directa y por Contrata."
   ]
  },
  {
   "cell_type": "markdown",
   "id": "592cf550-2d3a-4332-afc8-1375cc3f5ed1",
   "metadata": {},
   "source": [
    "## Metodología de Preparación de Datos\n",
    "\n",
    "La base de datos utilizada en este análisis es el resultado de un riguroso proceso de limpieza, auditoría y curación realizado sobre el dataset crudo de INFOBRAS (`DataSet-Obras-Publicas-23-07-2025.xlsx`). Este proceso, documentado en su totalidad en el notebook `01_Data_Cleaning_INFOBRAS.ipynb`, aseguró la calidad y fiabilidad de los datos.\n",
    "\n",
    "Los pasos clave del pre-procesamiento incluyeron:\n",
    "\n",
    "1.  **Limpieza y Normalización de Texto:** Se eliminaron espacios en blanco y se normalizaron los caracteres (eliminación de acentos) en todas las columnas de texto para garantizar la consistencia de los filtros.\n",
    "2.  **Estandarización de Columnas:** Todos los nombres de las columnas se convirtieron a formato `snake_case`.\n",
    "3.  **Reparación Estructural:** Se renombraron columnas duplicadas para eliminar la ambigüedad (ej. `ruc.1` -> `ruc_supervisor`).\n",
    "4.  **Transformación de Tipos de Datos:** Se convirtieron 16 columnas de fecha a `datetime` y 18 columnas numéricas a `float`, manejando errores de formato.\n",
    "5.  **Auditoría y Curación de Datos:**\n",
    "    *   Se identificaron y eliminaron **898** obras con fechas incoherentes (fecha de fin anterior a la de inicio).\n",
    "    *   Se eliminaron **47,887** obras con plazos de ejecución no positivos (cero o negativos).\n",
    "    *   Se eliminaron **19** obras con plazos extremos y poco plausibles (mayores a 10 años).\n",
    "6.  **Manejo de Nulos:** Se aplicó una estrategia de imputación lógica y contextual para rellenar los valores nulos restantes.\n",
    "\n",
    "El resultado de este proceso es el archivo `infobras_certificado_v1.csv`, que sirve como la fuente de datos certificada para el siguiente análisis."
   ]
  },
  {
   "cell_type": "code",
   "execution_count": 1,
   "id": "16a16155-9e3a-4196-807b-d80d0dbf9f6c",
   "metadata": {},
   "outputs": [
    {
     "name": "stdout",
     "output_type": "stream",
     "text": [
      "--- Cargando Dataset CERTIFICADO ---\n",
      "Se han aislado 8500 obras certificadas de Puno.\n"
     ]
    }
   ],
   "source": [
    "# --- Paso 1: Configuración y Carga de Datos Certificados ---\n",
    "import pandas as pd\n",
    "import numpy as np\n",
    "from scipy.stats import shapiro, mannwhitneyu\n",
    "\n",
    "print(\"--- Cargando Dataset CERTIFICADO ---\")\n",
    "# Apuntamos a nuestro archivo de alta calidad generado en el notebook 01\n",
    "df_certificado = pd.read_csv('../data/infobras_certificado_v1.csv', low_memory=False)\n",
    "\n",
    "# Aseguramos que las columnas de fecha clave sean del tipo datetime\n",
    "date_cols = ['fecha_de_inicio_de_obra', 'fecha_de_finalizacion_real']\n",
    "for col in date_cols:\n",
    "    df_certificado[col] = pd.to_datetime(df_certificado[col], errors='coerce')\n",
    "\n",
    "# Filtramos para Puno\n",
    "df_puno = df_certificado[df_certificado['departamento'] == 'PUNO'].copy()\n",
    "print(f\"Se han aislado {len(df_puno)} obras certificadas de Puno.\")"
   ]
  },
  {
   "cell_type": "markdown",
   "id": "98c9782e-d2c8-4d84-a7a8-d213c860b999",
   "metadata": {},
   "source": [
    "### 4.2 Análisis Comparativo del Cumplimiento Presupuestal\n",
    "\n",
    "A continuación, se aísla la muestra de análisis para el primer objetivo específico y se ejecutan los cálculos y pruebas estadísticas correspondientes."
   ]
  },
  {
   "cell_type": "code",
   "execution_count": 3,
   "id": "7d55d111-3b83-478a-87fd-ce4667643945",
   "metadata": {},
   "outputs": [
    {
     "name": "stdout",
     "output_type": "stream",
     "text": [
      "Composición de la muestra para análisis presupuestal:\n",
      "modalidad_de_ejecucion_de_la_obra\n",
      "Administracion directa    316\n",
      "Contrata                   76\n",
      "Name: count, dtype: int64\n",
      "\n",
      "--- Tabla 2: Estadísticas de Desviación Presupuestal (%) ---\n"
     ]
    },
    {
     "data": {
      "text/html": [
       "<div>\n",
       "<style scoped>\n",
       "    .dataframe tbody tr th:only-of-type {\n",
       "        vertical-align: middle;\n",
       "    }\n",
       "\n",
       "    .dataframe tbody tr th {\n",
       "        vertical-align: top;\n",
       "    }\n",
       "\n",
       "    .dataframe thead th {\n",
       "        text-align: right;\n",
       "    }\n",
       "</style>\n",
       "<table border=\"1\" class=\"dataframe\">\n",
       "  <thead>\n",
       "    <tr style=\"text-align: right;\">\n",
       "      <th></th>\n",
       "      <th>N</th>\n",
       "      <th>Media (%)</th>\n",
       "      <th>Mediana (%)</th>\n",
       "      <th>Desv. Estándar</th>\n",
       "      <th>Mínimo</th>\n",
       "      <th>Máximo</th>\n",
       "    </tr>\n",
       "  </thead>\n",
       "  <tbody>\n",
       "    <tr>\n",
       "      <th>Administracion directa</th>\n",
       "      <td>316</td>\n",
       "      <td>87.73</td>\n",
       "      <td>-16.63</td>\n",
       "      <td>1543.84</td>\n",
       "      <td>-99.98</td>\n",
       "      <td>25436.01</td>\n",
       "    </tr>\n",
       "    <tr>\n",
       "      <th>Contrata</th>\n",
       "      <td>76</td>\n",
       "      <td>-2.94</td>\n",
       "      <td>-9.87</td>\n",
       "      <td>129.41</td>\n",
       "      <td>-100.00</td>\n",
       "      <td>1010.66</td>\n",
       "    </tr>\n",
       "  </tbody>\n",
       "</table>\n",
       "</div>"
      ],
      "text/plain": [
       "                          N  Media (%)  Mediana (%)  Desv. Estándar  Mínimo  \\\n",
       "Administracion directa  316      87.73       -16.63         1543.84  -99.98   \n",
       "Contrata                 76      -2.94        -9.87          129.41 -100.00   \n",
       "\n",
       "                          Máximo  \n",
       "Administracion directa  25436.01  \n",
       "Contrata                 1010.66  "
      ]
     },
     "metadata": {},
     "output_type": "display_data"
    },
    {
     "name": "stdout",
     "output_type": "stream",
     "text": [
      "\n",
      "Resultado Prueba U de Mann-Whitney: p-value = 0.2733\n"
     ]
    }
   ],
   "source": [
    "# --- Preparación de la muestra para análisis presupuestal ---\n",
    "financiero_sample = df_puno[\n",
    "    (df_puno['estado_de_ejecucion'] == 'Finalizado') &\n",
    "    (df_puno['monto_viable/aprobado'] > 0) & \n",
    "    (df_puno['monto_de_ejecucion_financiera_de_la_obra'] > 0)\n",
    "].copy()\n",
    "\n",
    "modalidades_de_interes = ['Administracion directa', 'Contrata']\n",
    "financiero_comparison_sample = financiero_sample[financiero_sample['modalidad_de_ejecucion_de_la_obra'].isin(modalidades_de_interes)].copy()\n",
    "\n",
    "print(\"Composición de la muestra para análisis presupuestal:\")\n",
    "print(financiero_comparison_sample['modalidad_de_ejecucion_de_la_obra'].value_counts())\n",
    "\n",
    "# --- Ejecución del Análisis Presupuestal ---\n",
    "if not financiero_comparison_sample.empty and len(financiero_comparison_sample['modalidad_de_ejecucion_de_la_obra'].unique()) > 1:\n",
    "    financiero_comparison_sample['desviacion_presupuestal_%'] = \\\n",
    "        ((financiero_comparison_sample['monto_de_ejecucion_financiera_de_la_obra'] - financiero_comparison_sample['monto_viable/aprobado']) \n",
    "         / financiero_comparison_sample['monto_viable/aprobado']) * 100\n",
    "\n",
    "    admin_directa_dp = financiero_comparison_sample[financiero_comparison_sample['modalidad_de_ejecucion_de_la_obra'] == 'Administracion directa']['desviacion_presupuestal_%'].dropna()\n",
    "    contrata_dp = financiero_comparison_sample[financiero_comparison_sample['modalidad_de_ejecucion_de_la_obra'] == 'Contrata']['desviacion_presupuestal_%'].dropna()\n",
    "\n",
    "    tabla_2_dp = pd.DataFrame({'Administracion directa': admin_directa_dp.describe(), 'Contrata': contrata_dp.describe()}).T[['count', 'mean', '50%', 'std', 'min', 'max']]\n",
    "    tabla_2_dp.rename(columns={'50%': 'Mediana (%)', 'count': 'N', 'mean': 'Media (%)', 'std': 'Desv. Estándar', 'min': 'Mínimo', 'max': 'Máximo'}, inplace=True)\n",
    "    tabla_2_dp['N'] = tabla_2_dp['N'].astype(int)\n",
    "    \n",
    "    print(\"\\n--- Tabla 2: Estadísticas de Desviación Presupuestal (%) ---\")\n",
    "    display(tabla_2_dp.round(2))\n",
    "\n",
    "    u_stat, p_value_dp = mannwhitneyu(admin_directa_dp, contrata_dp, alternative='two-sided')\n",
    "    print(f\"\\nResultado Prueba U de Mann-Whitney: p-value = {p_value_dp:.4f}\")\n",
    "else:\n",
    "    print(\"\\nNo hay suficientes datos en ambas modalidades para una comparación presupuestal directa.\")"
   ]
  },
  {
   "cell_type": "markdown",
   "id": "745a8755-ec53-4821-85eb-f657aee124a8",
   "metadata": {},
   "source": [
    "**Conclusión del Análisis Presupuestal:** Con un p-valor de 0.2733 (mayor a 0.05), no existe una diferencia estadísticamente significativa entre las medianas de desviación presupuestal. Sin embargo, el análisis descriptivo revela que la modalidad por Administración Directa presenta una variabilidad y un riesgo de sobrecostos extremos mucho mayor."
   ]
  },
  {
   "cell_type": "markdown",
   "id": "4e5d0521-b79e-40ca-9866-02f79fc30dce",
   "metadata": {},
   "source": [
    "### 4.3 Análisis Comparativo de la Eficiencia en Plazos\n",
    "\n",
    "Se prepara una nueva muestra independiente para evaluar el cumplimiento de los plazos, basándose únicamente en la disponibilidad de datos temporales."
   ]
  },
  {
   "cell_type": "code",
   "execution_count": 6,
   "id": "835042fc-2df1-47e0-9f53-aef414b616e1",
   "metadata": {},
   "outputs": [
    {
     "name": "stdout",
     "output_type": "stream",
     "text": [
      "Composición de la muestra para análisis de plazos:\n",
      "modalidad_de_ejecucion_de_la_obra\n",
      "Administracion directa    4587\n",
      "Contrata                  1298\n",
      "Name: count, dtype: int64\n",
      "\n",
      "--- Tabla 3: Estadísticas de Variación de Plazo (días) ---\n"
     ]
    },
    {
     "data": {
      "text/html": [
       "<div>\n",
       "<style scoped>\n",
       "    .dataframe tbody tr th:only-of-type {\n",
       "        vertical-align: middle;\n",
       "    }\n",
       "\n",
       "    .dataframe tbody tr th {\n",
       "        vertical-align: top;\n",
       "    }\n",
       "\n",
       "    .dataframe thead th {\n",
       "        text-align: right;\n",
       "    }\n",
       "</style>\n",
       "<table border=\"1\" class=\"dataframe\">\n",
       "  <thead>\n",
       "    <tr style=\"text-align: right;\">\n",
       "      <th></th>\n",
       "      <th>N</th>\n",
       "      <th>Media (días)</th>\n",
       "      <th>Mediana (días)</th>\n",
       "      <th>Desv. Estándar</th>\n",
       "    </tr>\n",
       "  </thead>\n",
       "  <tbody>\n",
       "    <tr>\n",
       "      <th>Administracion directa</th>\n",
       "      <td>4587</td>\n",
       "      <td>118.0</td>\n",
       "      <td>27.0</td>\n",
       "      <td>308.0</td>\n",
       "    </tr>\n",
       "    <tr>\n",
       "      <th>Contrata</th>\n",
       "      <td>1298</td>\n",
       "      <td>153.0</td>\n",
       "      <td>30.0</td>\n",
       "      <td>2048.0</td>\n",
       "    </tr>\n",
       "  </tbody>\n",
       "</table>\n",
       "</div>"
      ],
      "text/plain": [
       "                           N  Media (días)  Mediana (días)  Desv. Estándar\n",
       "Administracion directa  4587         118.0            27.0           308.0\n",
       "Contrata                1298         153.0            30.0          2048.0"
      ]
     },
     "metadata": {},
     "output_type": "display_data"
    },
    {
     "name": "stdout",
     "output_type": "stream",
     "text": [
      "\n",
      "Resultado Prueba U de Mann-Whitney: p-value = 0.5995\n"
     ]
    }
   ],
   "source": [
    "# --- Preparación de la muestra para análisis de plazos ---\n",
    "plazo_sample = df_puno[\n",
    "    (df_puno['estado_de_ejecucion'] == 'Finalizado') &\n",
    "    (df_puno['fecha_de_inicio_de_obra'].notna()) &\n",
    "    (df_puno['fecha_de_finalizacion_real'].notna()) &\n",
    "    (df_puno['plazo_de_ejecucion_en_dias'].notna())\n",
    "].copy()\n",
    "\n",
    "modalidades_de_interes = ['Administracion directa', 'Contrata']\n",
    "plazo_comparison_sample = plazo_sample[plazo_sample['modalidad_de_ejecucion_de_la_obra'].isin(modalidades_de_interes)].copy()\n",
    "\n",
    "print(\"Composición de la muestra para análisis de plazos:\")\n",
    "print(plazo_comparison_sample['modalidad_de_ejecucion_de_la_obra'].value_counts())\n",
    "\n",
    "# --- Ejecución del Análisis de Plazos ---\n",
    "if not plazo_comparison_sample.empty and len(plazo_comparison_sample['modalidad_de_ejecucion_de_la_obra'].unique()) > 1:\n",
    "    plazo_comparison_sample['variacion_plazo_dias'] = \\\n",
    "        (plazo_comparison_sample['fecha_de_finalizacion_real'] - plazo_comparison_sample['fecha_de_inicio_de_obra']).dt.days - plazo_comparison_sample['plazo_de_ejecucion_en_dias']\n",
    "        \n",
    "    admin_directa_vp = plazo_comparison_sample[plazo_comparison_sample['modalidad_de_ejecucion_de_la_obra'] == 'Administracion directa']['variacion_plazo_dias'].dropna()\n",
    "    contrata_vp = plazo_comparison_sample[plazo_comparison_sample['modalidad_de_ejecucion_de_la_obra'] == 'Contrata']['variacion_plazo_dias'].dropna()\n",
    "    \n",
    "    tabla_3_vp = pd.DataFrame({'Administracion directa': admin_directa_vp.describe(), 'Contrata': contrata_vp.describe()}).T[['count', 'mean', '50%', 'std']]\n",
    "    tabla_3_vp.rename(columns={'50%': 'Mediana (días)', 'count': 'N', 'mean': 'Media (días)', 'std': 'Desv. Estándar'}, inplace=True)\n",
    "    tabla_3_vp['N'] = tabla_3_vp['N'].astype(int)\n",
    "\n",
    "    print(\"\\n--- Tabla 3: Estadísticas de Variación de Plazo (días) ---\")\n",
    "    display(tabla_3_vp.round(0))\n",
    "    \n",
    "    u_stat_vp, p_value_vp = mannwhitneyu(admin_directa_vp, contrata_vp, alternative='two-sided')\n",
    "    print(f\"\\nResultado Prueba U de Mann-Whitney: p-value = {p_value_vp:.4f}\")\n",
    "else:\n",
    "    print(\"\\nNo hay suficientes datos en ambas modalidades para una comparación de plazos directa.\")"
   ]
  },
  {
   "cell_type": "markdown",
   "id": "5802f1c5-682f-4304-9beb-91370762fcab",
   "metadata": {},
   "source": [
    "**Conclusión del Análisis de Plazos:** Con un p-valor de 0.5995 (mayor a 0.05), no existe una diferencia estadísticamente significativa en la mediana de los retrasos. Ambas modalidades presentan un retraso típico similar (menos de un mes). Sin embargo, la modalidad por Contrata muestra un riesgo mucho mayor de sufrir retrasos extremos."
   ]
  },
  {
   "cell_type": "markdown",
   "id": "1e8c1634-0650-4bc8-b823-5a6633b4803f",
   "metadata": {},
   "source": [
    "### 4.4 Análisis Comparativo de Mecanismos de Control\n",
    "\n",
    "Finalmente, se analiza la población total de obras en Puno para comparar los indicadores de control que no dependen del estado de finalización."
   ]
  },
  {
   "cell_type": "code",
   "execution_count": 7,
   "id": "30abfa18-400b-459c-bc88-888083341485",
   "metadata": {},
   "outputs": [
    {
     "name": "stdout",
     "output_type": "stream",
     "text": [
      "Composición de la muestra para análisis de control (Población Total):\n",
      "modalidad_de_ejecucion_de_la_obra\n",
      "Administracion directa    6491\n",
      "Contrata                  1625\n",
      "Name: count, dtype: int64\n",
      "\n",
      "--- Tabla 4: Indicadores de Transparencia y Control ---\n"
     ]
    },
    {
     "data": {
      "text/html": [
       "<div>\n",
       "<style scoped>\n",
       "    .dataframe tbody tr th:only-of-type {\n",
       "        vertical-align: middle;\n",
       "    }\n",
       "\n",
       "    .dataframe tbody tr th {\n",
       "        vertical-align: top;\n",
       "    }\n",
       "\n",
       "    .dataframe thead th {\n",
       "        text-align: right;\n",
       "    }\n",
       "</style>\n",
       "<table border=\"1\" class=\"dataframe\">\n",
       "  <thead>\n",
       "    <tr style=\"text-align: right;\">\n",
       "      <th></th>\n",
       "      <th>total_obras</th>\n",
       "      <th>promedio_informes_control</th>\n",
       "      <th>Obras con Controversias (%)</th>\n",
       "      <th>Tasa de Paralizacion (%)</th>\n",
       "    </tr>\n",
       "    <tr>\n",
       "      <th>modalidad_de_ejecucion_de_la_obra</th>\n",
       "      <th></th>\n",
       "      <th></th>\n",
       "      <th></th>\n",
       "      <th></th>\n",
       "    </tr>\n",
       "  </thead>\n",
       "  <tbody>\n",
       "    <tr>\n",
       "      <th>Administracion directa</th>\n",
       "      <td>6491</td>\n",
       "      <td>0.35</td>\n",
       "      <td>0.03</td>\n",
       "      <td>6.32</td>\n",
       "    </tr>\n",
       "    <tr>\n",
       "      <th>Contrata</th>\n",
       "      <td>1625</td>\n",
       "      <td>0.70</td>\n",
       "      <td>3.02</td>\n",
       "      <td>6.34</td>\n",
       "    </tr>\n",
       "  </tbody>\n",
       "</table>\n",
       "</div>"
      ],
      "text/plain": [
       "                                   total_obras  promedio_informes_control  \\\n",
       "modalidad_de_ejecucion_de_la_obra                                           \n",
       "Administracion directa                    6491                       0.35   \n",
       "Contrata                                  1625                       0.70   \n",
       "\n",
       "                                   Obras con Controversias (%)  \\\n",
       "modalidad_de_ejecucion_de_la_obra                                \n",
       "Administracion directa                                    0.03   \n",
       "Contrata                                                  3.02   \n",
       "\n",
       "                                   Tasa de Paralizacion (%)  \n",
       "modalidad_de_ejecucion_de_la_obra                            \n",
       "Administracion directa                                 6.32  \n",
       "Contrata                                               6.34  "
      ]
     },
     "metadata": {},
     "output_type": "display_data"
    }
   ],
   "source": [
    "# --- Preparación y Ejecución del Análisis de Control ---\n",
    "df_puno['fue_paralizado'] = (df_puno['causal_de_paralizacion'] != 'No Paralizada').astype(int)\n",
    "control_comparison_sample = df_puno[df_puno['modalidad_de_ejecucion_de_la_obra'].isin(modalidades_de_interes)].copy()\n",
    "\n",
    "print(\"Composición de la muestra para análisis de control (Población Total):\")\n",
    "print(control_comparison_sample['modalidad_de_ejecucion_de_la_obra'].value_counts())\n",
    "\n",
    "control_analysis = control_comparison_sample.groupby('modalidad_de_ejecucion_de_la_obra').agg(\n",
    "    total_obras=('codigo_infobras', 'count'),\n",
    "    promedio_informes_control=('n_informes_de_control', 'mean'),\n",
    "    total_con_controversias=('n_de_controversias', lambda x: (x > 0).sum()),\n",
    "    total_paralizadas=('fue_paralizado', 'sum')\n",
    ")\n",
    "control_analysis['Obras con Controversias (%)'] = (control_analysis['total_con_controversias'] / control_analysis['total_obras']) * 100\n",
    "control_analysis['Tasa de Paralizacion (%)'] = (control_analysis['total_paralizadas'] / control_analysis['total_obras']) * 100\n",
    "tabla_4_control = control_analysis[['total_obras', 'promedio_informes_control', 'Obras con Controversias (%)', 'Tasa de Paralizacion (%)']]\n",
    "\n",
    "print(\"\\n--- Tabla 4: Indicadores de Transparencia y Control ---\")\n",
    "display(tabla_4_control.round(2))"
   ]
  },
  {
   "cell_type": "markdown",
   "id": "60d0ec48-81af-48b0-ba91-f3e27d490054",
   "metadata": {},
   "source": [
    "**Conclusión del Análisis de Control:** La modalidad por Contrata es un sistema mucho más formalizado, generando el doble de informes de control y 100 veces más controversias registradas. Sin embargo, el riesgo de que una obra se paralice es virtualmente idéntico en ambas modalidades, sugiriendo que es un riesgo sistémico de la región."
   ]
  },
  {
   "cell_type": "code",
   "execution_count": null,
   "id": "e09e1df8-c9a6-44c5-806f-049da1dd537e",
   "metadata": {},
   "outputs": [],
   "source": []
  }
 ],
 "metadata": {
  "kernelspec": {
   "display_name": "Python 3 (ipykernel)",
   "language": "python",
   "name": "python3"
  },
  "language_info": {
   "codemirror_mode": {
    "name": "ipython",
    "version": 3
   },
   "file_extension": ".py",
   "mimetype": "text/x-python",
   "name": "python",
   "nbconvert_exporter": "python",
   "pygments_lexer": "ipython3",
   "version": "3.12.6"
  }
 },
 "nbformat": 4,
 "nbformat_minor": 5
}
