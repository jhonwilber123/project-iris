{
 "cells": [
  {
   "cell_type": "code",
   "execution_count": 3,
   "id": "df97ce04-2aa8-4322-ba7f-51677ddbca99",
   "metadata": {},
   "outputs": [
    {
     "name": "stdout",
     "output_type": "stream",
     "text": [
      "--- 1. Definición del Evento de Fracaso ---\n",
      "Dataset certificado cargado con éxito.\n",
      "\n",
      "Variable objetivo 'project_failed' creada con éxito.\n",
      "Distribución de proyectos 'Fracasados' (1) vs. 'Exitosos' (0):\n",
      "project_failed\n",
      "0    0.760105\n",
      "1    0.239895\n",
      "Name: proportion, dtype: float64\n",
      "\n",
      "--- 2. División Temporal para el Backtest ---\n",
      "\n",
      "Datos de Entrenamiento (hasta 2022-12-31): 113670 proyectos\n",
      "Datos de Prueba (después de 2022-12-31): 18168 proyectos\n"
     ]
    }
   ],
   "source": [
    "import pandas as pd\n",
    "import numpy as np\n",
    "\n",
    "# --- Lunes: Diseño del Backtest ---\n",
    "\n",
    "# --- 1. Definición del Evento de Fracaso ---\n",
    "print(\"--- 1. Definición del Evento de Fracaso ---\")\n",
    "\n",
    "# Cargamos los datos certificados\n",
    "try:\n",
    "    df_infobras = pd.read_csv(\n",
    "        '../data/infobras_certificado_v_final.csv', \n",
    "        parse_dates=['fecha_de_aprobacion_del_expediente', 'fecha_de_inicio_de_obra', 'fecha_de_finalizacion_real']\n",
    "    )\n",
    "    print(\"Dataset certificado cargado con éxito.\")\n",
    "except FileNotFoundError:\n",
    "    print(\"ERROR: No se encontró 'infobras_certificado_v1.csv'. Asegúrate de que el archivo existe.\")\n",
    "    # Detenemos la ejecución si el archivo no se encuentra\n",
    "    df_infobras = None\n",
    "\n",
    "if df_infobras is not None:\n",
    "    # --- Creamos los indicadores de fracaso individuales ---\n",
    "    \n",
    "    # Fracaso por Costo: sobrecosto mayor al 50%\n",
    "    # Blindamos la división para evitar errores con monto_viable/aprobado = 0\n",
    "    denominador_costo = df_infobras['monto_viable/aprobado'].replace(0, np.nan)\n",
    "    df_infobras['ratio_sobrecosto'] = (df_infobras['costo_de_la_obra_en_soles'] - df_infobras['monto_viable/aprobado']) / denominador_costo\n",
    "    fracaso_costo = df_infobras['ratio_sobrecosto'] > 0.5\n",
    "    \n",
    "    # Fracaso por Plazo: retraso mayor al 100% (tardó el doble)\n",
    "    denominador_plazo = df_infobras['plazo_de_ejecucion_en_dias'].replace(0, np.nan)\n",
    "    df_infobras['plazo_real_dias'] = (df_infobras['fecha_de_finalizacion_real'] - df_infobras['fecha_de_inicio_de_obra']).dt.days\n",
    "    df_infobras['ratio_sobretiempo'] = (df_infobras['plazo_real_dias'] - df_infobras['plazo_de_ejecucion_en_dias']) / denominador_plazo\n",
    "    fracaso_plazo = df_infobras['ratio_sobretiempo'] > 1.0\n",
    "    \n",
    "    # Fracaso por Paralización: fue paralizado en algún momento\n",
    "    fracaso_paralizacion = df_infobras['causal_de_paralizacion'] != 'No Paralizada'\n",
    "    \n",
    "    # --- Creamos la variable objetivo final: 'project_failed' ---\n",
    "    # Rellenamos los NaN en las condiciones booleanas con False antes de combinarlas\n",
    "    df_infobras['project_failed'] = (fracaso_costo.fillna(False) | fracaso_plazo.fillna(False) | fracaso_paralizacion).astype(int)\n",
    "    \n",
    "    print(\"\\nVariable objetivo 'project_failed' creada con éxito.\")\n",
    "    print(\"Distribución de proyectos 'Fracasados' (1) vs. 'Exitosos' (0):\")\n",
    "    print(df_infobras['project_failed'].value_counts(normalize=True))\n",
    "    \n",
    "    \n",
    "    # --- 2. División Temporal para el Backtest ---\n",
    "    print(\"\\n--- 2. División Temporal para el Backtest ---\")\n",
    "    \n",
    "    # Usamos la fecha de aprobación del expediente como la fecha del proyecto\n",
    "    df_infobras.dropna(subset=['fecha_de_aprobacion_del_expediente'], inplace=True)\n",
    "    \n",
    "    fecha_corte = pd.to_datetime('2022-12-31')\n",
    "    \n",
    "    # Datos de \"entrenamiento\" (para construir el índice)\n",
    "    df_train = df_infobras[df_infobras['fecha_de_aprobacion_del_expediente'] <= fecha_corte].copy()\n",
    "    \n",
    "    # Datos de \"prueba\" (para ver los resultados)\n",
    "    df_test = df_infobras[df_infobras['fecha_de_aprobacion_del_expediente'] > fecha_corte].copy()\n",
    "    \n",
    "    print(f\"\\nDatos de Entrenamiento (hasta {fecha_corte.date()}): {len(df_train)} proyectos\")\n",
    "    print(f\"Datos de Prueba (después de {fecha_corte.date()}): {len(df_test)} proyectos\")"
   ]
  },
  {
   "cell_type": "code",
   "execution_count": 5,
   "id": "7baef7a4-e2e0-491b-8eee-4f0723a09db7",
   "metadata": {},
   "outputs": [
    {
     "name": "stdout",
     "output_type": "stream",
     "text": [
      "--- 1. Cargando datos y definiendo el 'Evento de Fracaso' ---\n",
      "ERROR: No se encontró 'infobras_certificado_v1.csv'.\n"
     ]
    }
   ],
   "source": [
    "import pandas as pd\n",
    "import numpy as np\n",
    "from sklearn.preprocessing import MinMaxScaler\n",
    "\n",
    "# --- Paso 1: Carga y Creación de la Variable Objetivo ---\n",
    "print(\"--- 1. Cargando datos y definiendo el 'Evento de Fracaso' ---\")\n",
    "\n",
    "try:\n",
    "    df_infobras = pd.read_csv(\n",
    "        '../data/infobras_certificado_v1.csv', \n",
    "        parse_dates=['fecha_de_aprobacion_del_expediente', 'fecha_de_inicio_de_obra', 'fecha_de_finalizacion_real']\n",
    "    )\n",
    "    print(\"Dataset certificado cargado con éxito.\")\n",
    "    \n",
    "    # --- CREACIÓN DE FEATURES DE FRACASO ---\n",
    "    # Costo\n",
    "    denominador_costo = df_infobras['monto_viable/aprobado'].replace(0, np.nan)\n",
    "    df_infobras['ratio_sobrecosto'] = (df_infobras['costo_de_la_obra_en_soles'] - df_infobras['monto_viable/aprobado']) / denominador_costo\n",
    "    fracaso_costo = df_infobras['ratio_sobrecosto'] > 0.5\n",
    "    \n",
    "    # Plazo\n",
    "    denominador_plazo = df_infobras['plazo_de_ejecucion_en_dias'].replace(0, np.nan)\n",
    "    df_infobras['plazo_real_dias'] = (df_infobras['fecha_de_finalizacion_real'] - df_infobras['fecha_de_inicio_de_obra']).dt.days\n",
    "    df_infobras['ratio_sobretiempo'] = (df_infobras['plazo_real_dias'] - df_infobras['plazo_de_ejecucion_en_dias']) / denominador_plazo\n",
    "    fracaso_plazo = df_infobras['ratio_sobretiempo'] > 1.0\n",
    "    \n",
    "    # Paralización\n",
    "    df_infobras['fue_paralizado'] = (df_infobras['causal_de_paralizacion'] != 'No Paralizada').astype(int)\n",
    "    fracaso_paralizacion = df_infobras['fue_paralizado'] == 1 # Ahora usamos la columna 0/1 directamente\n",
    "\n",
    "    # VARIABLE OBJETIVO\n",
    "    df_infobras['project_failed'] = (fracaso_costo.fillna(False) | fracaso_plazo.fillna(False) | fracaso_paralizacion).astype(int)\n",
    "    \n",
    "    print(\"\\nColumnas de ratios y variable objetivo 'project_failed' creadas.\")\n",
    "    print(\"Distribución de proyectos 'Fracasados' (1) vs. 'Exitosos' (0):\")\n",
    "    print(df_infobras['project_failed'].value_counts(normalize=True))\n",
    "\n",
    "except FileNotFoundError:\n",
    "    print(\"ERROR: No se encontró 'infobras_certificado_v1.csv'.\")\n",
    "    df_infobras = None"
   ]
  },
  {
   "cell_type": "code",
   "execution_count": 6,
   "id": "46171919-5eef-4ad8-9193-7cd9e3c6ad91",
   "metadata": {},
   "outputs": [],
   "source": [
    "# --- Paso 2: División Temporal para el Backtest ---\n",
    "if df_infobras is not None:\n",
    "    print(\"\\n--- 2. División Temporal para el Backtest ---\")\n",
    "    \n",
    "    df_infobras.dropna(subset=['fecha_de_aprobacion_del_expediente'], inplace=True)\n",
    "    fecha_corte = pd.to_datetime('2022-12-31')\n",
    "    \n",
    "    df_train = df_infobras[df_infobras['fecha_de_aprobacion_del_expediente'] <= fecha_corte].copy()\n",
    "    df_test = df_infobras[df_infobras['fecha_de_aprobacion_del_expediente'] > fecha_corte].copy()\n",
    "    \n",
    "    print(f\"\\nDatos de Entrenamiento: {len(df_train)} proyectos\")\n",
    "    print(f\"Datos de Prueba: {len(df_test)} proyectos\")"
   ]
  },
  {
   "cell_type": "code",
   "execution_count": 8,
   "id": "85348931-8b0f-4399-9019-5f1ec9e50197",
   "metadata": {},
   "outputs": [
    {
     "name": "stdout",
     "output_type": "stream",
     "text": [
      "--- 3. Re-construyendo el Índice IRIS con datos hasta 2022 ---\n",
      "\n",
      "HA OCURRIDO UN ERROR INESPERADO DURANTE EL BACKTEST: \"Column(s) ['fue_paralizado'] do not exist\"\n"
     ]
    }
   ],
   "source": [
    "# --- Martes y Miércoles: Ejecución del Backtest y Visualización de Resultados ---\n",
    "import plotly.express as px\n",
    "\n",
    "print(\"--- 3. Re-construyendo el Índice IRIS con datos hasta 2022 ---\")\n",
    "\n",
    "# --- Paso 3.A: Agregar datos de INFOBRAS y SINADEF usando SOLO df_train ---\n",
    "try:\n",
    "    df_train['ubigeo'] = df_train['departamento'] + '_' + df_train['provincia'] + '_' + df_train['distrito']\n",
    "    infobras_2022 = df_train.groupby('ubigeo').agg(\n",
    "        g_factor_tasa_paralizacion=('fue_paralizado', 'mean'),\n",
    "        g_factor_ratio_sobretiempo_promedio=('ratio_sobretiempo', 'mean'),\n",
    "        g_factor_ratio_sobrecosto_promedio=('ratio_sobrecosto', 'mean')\n",
    "    ).reset_index()\n",
    "\n",
    "    df_sinadef = pd.read_csv('../data/sinadef_certified_v1.csv')\n",
    "    df_iris_2022 = pd.merge(infobras_2022, df_sinadef, on='ubigeo', how='left')\n",
    "    print(\"Factores históricos (versión 2022) calculados.\")\n",
    "\n",
    "    # --- Paso 3.B: Calcular el Score IRIS Histórico (2022) ---\n",
    "    for col in df_iris_2022.columns:\n",
    "        if col != 'ubigeo' and pd.api.types.is_numeric_dtype(df_iris_2022[col]):\n",
    "            df_iris_2022[col] = df_iris_2022[col].fillna(df_iris_2022[col].median())\n",
    "\n",
    "    scaler = MinMaxScaler()\n",
    "    factor_cols = [col for col in df_iris_2022.columns if 'factor' in col]\n",
    "    df_iris_2022[factor_cols] = scaler.fit_transform(df_iris_2022[factor_cols])\n",
    "\n",
    "    df_iris_2022['s_factor_edad_prom_muerte'] = 1 - df_iris_2022['s_factor_edad_prom_muerte']\n",
    "\n",
    "    g_cols = [col for col in factor_cols if 'g_factor' in col]\n",
    "    s_cols = [col for col in factor_cols if 's_factor' in col]\n",
    "    df_iris_2022['g_score'] = df_iris_2022[g_cols].mean(axis=1)\n",
    "    df_iris_2022['s_score'] = df_iris_2022[s_cols].mean(axis=1)\n",
    "    df_iris_2022['iris_score_2022'] = 0.5 * df_iris_2022['g_score'] + 0.5 * df_iris_2022['s_score']\n",
    "    print(\"Score IRIS histórico (versión 2022) calculado.\")\n",
    "\n",
    "    # --- 4. Aplicar el Score Histórico a los Datos de Prueba ---\n",
    "    print(\"\\n--- 4. Aplicando el Score 2022 a los proyectos de 2023+ ---\")\n",
    "    df_test['ubigeo'] = df_test['departamento'] + '_' + df_test['provincia'] + '_' + df_test['distrito']\n",
    "    df_test_scored = pd.merge(df_test, df_iris_2022[['ubigeo', 'iris_score_2022']], on='ubigeo', how='left')\n",
    "    df_test_scored.dropna(subset=['iris_score_2022'], inplace=True)\n",
    "    print(f\"Número de proyectos de prueba con un score IRIS asignado: {len(df_test_scored)}\")\n",
    "\n",
    "    # --- 5. Evaluación de los Resultados del Backtest ---\n",
    "    print(\"\\n--- 5. RESULTADOS DEL BACKTEST ---\")\n",
    "    \n",
    "    # Usamos un bloque try-except para el pd.qcut, que puede fallar\n",
    "    try:\n",
    "        df_test_scored['risk_quintile'] = pd.qcut(df_test_scored['iris_score_2022'], 5, labels=False, duplicates='drop')\n",
    "        quintile_labels = {0: '1_Muy_Bajo', 1: '2_Bajo', 2: '3_Medio', 3: '4_Alto', 4: '5_Muy_Alto'}\n",
    "        df_test_scored['risk_quintile'] = df_test_scored['risk_quintile'].map(quintile_labels)\n",
    "        \n",
    "        validation_results = df_test_scored.groupby('risk_quintile', observed=False)['project_failed'].mean().reset_index()\n",
    "        validation_results.rename(columns={'project_failed': 'tasa_de_fracaso_real'}, inplace=True)\n",
    "        \n",
    "        print(\"\\nTasa de Fracaso Real por Quintil de Riesgo IRIS Predicho:\")\n",
    "        display(validation_results)\n",
    "\n",
    "        # --- 6. Visualización de los Resultados ---\n",
    "        print(\"\\n--- 6. Visualizando los Resultados del Backtest ---\")\n",
    "        fig = px.bar(\n",
    "            validation_results, x='risk_quintile', y='tasa_de_fracaso_real',\n",
    "            title='<b>Poder Predictivo del Índice IRIS:</b> Tasa de Fracaso por Quintil de Riesgo',\n",
    "            labels={'risk_quintile': 'Quintil de Riesgo (Predicho con datos de 2022)', 'tasa_de_fracaso_real': 'Tasa de Fracaso Real (en proyectos de 2023+)'},\n",
    "            text_auto=True, color='tasa_de_fracaso_real', color_continuous_scale='Reds'\n",
    "        )\n",
    "        fig.update_traces(texttemplate='%{y:.1%}', textposition='outside')\n",
    "        fig.update_yaxes(tickformat=\".0%\")\n",
    "        fig.update_layout(xaxis_title_font_size=14, yaxis_title_font_size=14, title_font_size=18)\n",
    "        fig.show()\n",
    "\n",
    "    except ValueError as e:\n",
    "        print(f\"\\nERROR AL CREAR QUINTILES: {e}\")\n",
    "        print(\"Esto suele ocurrir si hay muy pocos valores únicos en el 'iris_score_2022' para crear 5 grupos distintos.\")\n",
    "        print(\"\\nEstadísticas del score para depuración:\")\n",
    "        display(df_test_scored['iris_score_2022'].describe())\n",
    "\n",
    "\n",
    "except Exception as e:\n",
    "    print(f\"\\nHA OCURRIDO UN ERROR INESPERADO DURANTE EL BACKTEST: {e}\")"
   ]
  },
  {
   "cell_type": "code",
   "execution_count": 10,
   "id": "f823c76e-bb5f-4c1c-8572-650e43fade76",
   "metadata": {},
   "outputs": [
    {
     "name": "stdout",
     "output_type": "stream",
     "text": [
      "--- 1. Cargando datos y definiendo el 'Evento de Fracaso' ---\n",
      "Dataset certificado cargado con éxito.\n",
      "\n",
      "Columnas de ratios, 'fue_paralizado' y 'project_failed' creadas con éxito.\n"
     ]
    }
   ],
   "source": [
    "import pandas as pd\n",
    "import numpy as np\n",
    "from sklearn.preprocessing import MinMaxScaler\n",
    "\n",
    "# --- Paso 1: Carga y Creación de la Variable Objetivo ---\n",
    "print(\"--- 1. Cargando datos y definiendo el 'Evento de Fracaso' ---\")\n",
    "\n",
    "try:\n",
    "    df_infobras = pd.read_csv(\n",
    "        '../data/infobras_certificado_v_final.csv', \n",
    "        parse_dates=['fecha_de_aprobacion_del_expediente', 'fecha_de_inicio_de_obra', 'fecha_de_finalizacion_real']\n",
    "    )\n",
    "    print(\"Dataset certificado cargado con éxito.\")\n",
    "    \n",
    "    # --- CREACIÓN DE TODAS LAS FEATURES NECESARIAS ---\n",
    "    # Costo\n",
    "    denominador_costo = df_infobras['monto_viable/aprobado'].replace(0, np.nan)\n",
    "    df_infobras['ratio_sobrecosto'] = (df_infobras['costo_de_la_obra_en_soles'] - df_infobras['monto_viable/aprobado']) / denominador_costo\n",
    "    fracaso_costo = df_infobras['ratio_sobrecosto'] > 0.5\n",
    "    \n",
    "    # Plazo\n",
    "    denominador_plazo = df_infobras['plazo_de_ejecucion_en_dias'].replace(0, np.nan)\n",
    "    df_infobras['plazo_real_dias'] = (df_infobras['fecha_de_finalizacion_real'] - df_infobras['fecha_de_inicio_de_obra']).dt.days\n",
    "    df_infobras['ratio_sobretiempo'] = (df_infobras['plazo_real_dias'] - df_infobras['plazo_de_ejecucion_en_dias']) / denominador_plazo\n",
    "    fracaso_plazo = df_infobras['ratio_sobretiempo'] > 1.0\n",
    "    \n",
    "    # Paralización\n",
    "    df_infobras['fue_paralizado'] = (df_infobras['causal_de_paralizacion'] != 'No Paralizada').astype(int)\n",
    "    fracaso_paralizacion = df_infobras['fue_paralizado'] == 1\n",
    "\n",
    "    # VARIABLE OBJETIVO\n",
    "    df_infobras['project_failed'] = (fracaso_costo.fillna(False) | fracaso_plazo.fillna(False) | fracaso_paralizacion).astype(int)\n",
    "    \n",
    "    # UBIGEO (lo creamos aquí para que se herede)\n",
    "    df_infobras['ubigeo'] = df_infobras['departamento'] + '_' + df_infobras['provincia'] + '_' + df_infobras['distrito']\n",
    "    \n",
    "    print(\"\\nColumnas de ratios, 'fue_paralizado' y 'project_failed' creadas con éxito.\")\n",
    "    \n",
    "except FileNotFoundError:\n",
    "    print(\"ERROR: No se encontró 'infobras_certificado_v1.csv'.\")\n",
    "    df_infobras = None"
   ]
  },
  {
   "cell_type": "code",
   "execution_count": 11,
   "id": "e63c012f-3ff9-4245-8c0e-2ef98212b7dc",
   "metadata": {},
   "outputs": [
    {
     "name": "stdout",
     "output_type": "stream",
     "text": [
      "\n",
      "--- 2. División Temporal para el Backtest ---\n",
      "\n",
      "Datos de Entrenamiento: 113670 proyectos\n",
      "Datos de Prueba: 18168 proyectos\n"
     ]
    }
   ],
   "source": [
    "# --- Paso 2: División Temporal para el Backtest ---\n",
    "if df_infobras is not None:\n",
    "    print(\"\\n--- 2. División Temporal para el Backtest ---\")\n",
    "    \n",
    "    df_infobras_temp = df_infobras.dropna(subset=['fecha_de_aprobacion_del_expediente']).copy()\n",
    "    fecha_corte = pd.to_datetime('2022-12-31')\n",
    "    \n",
    "    df_train = df_infobras_temp[df_infobras_temp['fecha_de_aprobacion_del_expediente'] <= fecha_corte].copy()\n",
    "    df_test = df_infobras_temp[df_infobras_temp['fecha_de_aprobacion_del_expediente'] > fecha_corte].copy()\n",
    "    \n",
    "    print(f\"\\nDatos de Entrenamiento: {len(df_train)} proyectos\")\n",
    "    print(f\"Datos de Prueba: {len(df_test)} proyectos\")\n",
    "else:\n",
    "    print(\"No se puede continuar, la carga de datos inicial falló.\")"
   ]
  },
  {
   "cell_type": "code",
   "execution_count": 12,
   "id": "56cd422d-0a1a-4cf2-8507-dc70a2dbb89c",
   "metadata": {},
   "outputs": [
    {
     "name": "stdout",
     "output_type": "stream",
     "text": [
      "--- 3. Re-construyendo el Índice IRIS con datos de entrenamiento ---\n",
      "Cálculo de G-Factors históricos completado.\n"
     ]
    }
   ],
   "source": [
    "# --- Paso 3: Re-construyendo el Índice IRIS con datos hasta 2022 ---\n",
    "if 'df_train' in locals():\n",
    "    print(\"--- 3. Re-construyendo el Índice IRIS con datos de entrenamiento ---\")\n",
    "\n",
    "    # Calcular G-Factors históricos (AHORA FUNCIONARÁ)\n",
    "    infobras_2022 = df_train.groupby('ubigeo').agg(\n",
    "        g_factor_tasa_paralizacion=('fue_paralizado', 'mean'),\n",
    "        g_factor_ratio_sobretiempo_promedio=('ratio_sobretiempo', 'mean'),\n",
    "        g_factor_ratio_sobrecosto_promedio=('ratio_sobrecosto', 'mean')\n",
    "    ).reset_index()\n",
    "\n",
    "    # (El resto del código de la celda de backtest...)\n",
    "    # ...\n",
    "    print(\"Cálculo de G-Factors históricos completado.\")\n",
    "else:\n",
    "    print(\"El DataFrame 'df_train' no fue creado. Ejecuta la celda anterior.\")"
   ]
  },
  {
   "cell_type": "code",
   "execution_count": 14,
   "id": "e62815d8-2f4b-43bb-801b-0d6a13501d36",
   "metadata": {},
   "outputs": [
    {
     "name": "stdout",
     "output_type": "stream",
     "text": [
      "--- 3. Re-construyendo el Índice IRIS con datos de entrenamiento ---\n",
      "Score IRIS histórico (versión 2022) calculado.\n",
      "\n",
      "--- 4. Aplicando el Score 2022 a los proyectos de 2023+ ---\n",
      "\n",
      "DEPURACIÓN: Se encontraron 1776 scores únicos en los datos de prueba.\n",
      "\n",
      "--- 5. RESULTADOS DEL BACKTEST ---\n",
      "Intentando crear 5 grupos de riesgo...\n",
      "¡Éxito! Se crearon 5 grupos de riesgo.\n",
      "\n",
      "Tasa de Fracaso Real por 5 Grupos de Riesgo:\n"
     ]
    },
    {
     "data": {
      "text/html": [
       "<div>\n",
       "<style scoped>\n",
       "    .dataframe tbody tr th:only-of-type {\n",
       "        vertical-align: middle;\n",
       "    }\n",
       "\n",
       "    .dataframe tbody tr th {\n",
       "        vertical-align: top;\n",
       "    }\n",
       "\n",
       "    .dataframe thead th {\n",
       "        text-align: right;\n",
       "    }\n",
       "</style>\n",
       "<table border=\"1\" class=\"dataframe\">\n",
       "  <thead>\n",
       "    <tr style=\"text-align: right;\">\n",
       "      <th></th>\n",
       "      <th>risk_group</th>\n",
       "      <th>tasa_de_fracaso_real</th>\n",
       "    </tr>\n",
       "  </thead>\n",
       "  <tbody>\n",
       "    <tr>\n",
       "      <th>0</th>\n",
       "      <td>1</td>\n",
       "      <td>0.134615</td>\n",
       "    </tr>\n",
       "    <tr>\n",
       "      <th>1</th>\n",
       "      <td>2</td>\n",
       "      <td>0.160625</td>\n",
       "    </tr>\n",
       "    <tr>\n",
       "      <th>2</th>\n",
       "      <td>3</td>\n",
       "      <td>0.181641</td>\n",
       "    </tr>\n",
       "    <tr>\n",
       "      <th>3</th>\n",
       "      <td>4</td>\n",
       "      <td>0.181768</td>\n",
       "    </tr>\n",
       "    <tr>\n",
       "      <th>4</th>\n",
       "      <td>5</td>\n",
       "      <td>0.179213</td>\n",
       "    </tr>\n",
       "  </tbody>\n",
       "</table>\n",
       "</div>"
      ],
      "text/plain": [
       "  risk_group  tasa_de_fracaso_real\n",
       "0          1              0.134615\n",
       "1          2              0.160625\n",
       "2          3              0.181641\n",
       "3          4              0.181768\n",
       "4          5              0.179213"
      ]
     },
     "metadata": {},
     "output_type": "display_data"
    },
    {
     "name": "stdout",
     "output_type": "stream",
     "text": [
      "\n",
      "--- 6. Visualizando los Resultados ---\n"
     ]
    },
    {
     "data": {
      "application/vnd.plotly.v1+json": {
       "config": {
        "plotlyServerURL": "https://plot.ly"
       },
       "data": [
        {
         "hovertemplate": "Grupo de Riesgo (Predicho con datos de 2022)=%{x}<br>Tasa de Fracaso Real (en proyectos de 2023+)=%{marker.color}<extra></extra>",
         "legendgroup": "",
         "marker": {
          "color": {
           "bdata": "sRM7sRM7wT8hFmU8WY/EPwAAAAAAQMc/5nQQ2CpExz9vq46od/DGPw==",
           "dtype": "f8"
          },
          "coloraxis": "coloraxis",
          "pattern": {
           "shape": ""
          }
         },
         "name": "",
         "orientation": "v",
         "showlegend": false,
         "textposition": "outside",
         "texttemplate": "%{y:.1%}",
         "type": "bar",
         "x": [
          "1",
          "2",
          "3",
          "4",
          "5"
         ],
         "xaxis": "x",
         "y": {
          "bdata": "sRM7sRM7wT8hFmU8WY/EPwAAAAAAQMc/5nQQ2CpExz9vq46od/DGPw==",
          "dtype": "f8"
         },
         "yaxis": "y"
        }
       ],
       "layout": {
        "barmode": "relative",
        "coloraxis": {
         "colorbar": {
          "title": {
           "text": "Tasa de Fracaso Real (en proyectos de 2023+)"
          }
         },
         "colorscale": [
          [
           0,
           "rgb(255,245,240)"
          ],
          [
           0.125,
           "rgb(254,224,210)"
          ],
          [
           0.25,
           "rgb(252,187,161)"
          ],
          [
           0.375,
           "rgb(252,146,114)"
          ],
          [
           0.5,
           "rgb(251,106,74)"
          ],
          [
           0.625,
           "rgb(239,59,44)"
          ],
          [
           0.75,
           "rgb(203,24,29)"
          ],
          [
           0.875,
           "rgb(165,15,21)"
          ],
          [
           1,
           "rgb(103,0,13)"
          ]
         ]
        },
        "legend": {
         "tracegroupgap": 0
        },
        "template": {
         "data": {
          "bar": [
           {
            "error_x": {
             "color": "#2a3f5f"
            },
            "error_y": {
             "color": "#2a3f5f"
            },
            "marker": {
             "line": {
              "color": "#E5ECF6",
              "width": 0.5
             },
             "pattern": {
              "fillmode": "overlay",
              "size": 10,
              "solidity": 0.2
             }
            },
            "type": "bar"
           }
          ],
          "barpolar": [
           {
            "marker": {
             "line": {
              "color": "#E5ECF6",
              "width": 0.5
             },
             "pattern": {
              "fillmode": "overlay",
              "size": 10,
              "solidity": 0.2
             }
            },
            "type": "barpolar"
           }
          ],
          "carpet": [
           {
            "aaxis": {
             "endlinecolor": "#2a3f5f",
             "gridcolor": "white",
             "linecolor": "white",
             "minorgridcolor": "white",
             "startlinecolor": "#2a3f5f"
            },
            "baxis": {
             "endlinecolor": "#2a3f5f",
             "gridcolor": "white",
             "linecolor": "white",
             "minorgridcolor": "white",
             "startlinecolor": "#2a3f5f"
            },
            "type": "carpet"
           }
          ],
          "choropleth": [
           {
            "colorbar": {
             "outlinewidth": 0,
             "ticks": ""
            },
            "type": "choropleth"
           }
          ],
          "contour": [
           {
            "colorbar": {
             "outlinewidth": 0,
             "ticks": ""
            },
            "colorscale": [
             [
              0,
              "#0d0887"
             ],
             [
              0.1111111111111111,
              "#46039f"
             ],
             [
              0.2222222222222222,
              "#7201a8"
             ],
             [
              0.3333333333333333,
              "#9c179e"
             ],
             [
              0.4444444444444444,
              "#bd3786"
             ],
             [
              0.5555555555555556,
              "#d8576b"
             ],
             [
              0.6666666666666666,
              "#ed7953"
             ],
             [
              0.7777777777777778,
              "#fb9f3a"
             ],
             [
              0.8888888888888888,
              "#fdca26"
             ],
             [
              1,
              "#f0f921"
             ]
            ],
            "type": "contour"
           }
          ],
          "contourcarpet": [
           {
            "colorbar": {
             "outlinewidth": 0,
             "ticks": ""
            },
            "type": "contourcarpet"
           }
          ],
          "heatmap": [
           {
            "colorbar": {
             "outlinewidth": 0,
             "ticks": ""
            },
            "colorscale": [
             [
              0,
              "#0d0887"
             ],
             [
              0.1111111111111111,
              "#46039f"
             ],
             [
              0.2222222222222222,
              "#7201a8"
             ],
             [
              0.3333333333333333,
              "#9c179e"
             ],
             [
              0.4444444444444444,
              "#bd3786"
             ],
             [
              0.5555555555555556,
              "#d8576b"
             ],
             [
              0.6666666666666666,
              "#ed7953"
             ],
             [
              0.7777777777777778,
              "#fb9f3a"
             ],
             [
              0.8888888888888888,
              "#fdca26"
             ],
             [
              1,
              "#f0f921"
             ]
            ],
            "type": "heatmap"
           }
          ],
          "histogram": [
           {
            "marker": {
             "pattern": {
              "fillmode": "overlay",
              "size": 10,
              "solidity": 0.2
             }
            },
            "type": "histogram"
           }
          ],
          "histogram2d": [
           {
            "colorbar": {
             "outlinewidth": 0,
             "ticks": ""
            },
            "colorscale": [
             [
              0,
              "#0d0887"
             ],
             [
              0.1111111111111111,
              "#46039f"
             ],
             [
              0.2222222222222222,
              "#7201a8"
             ],
             [
              0.3333333333333333,
              "#9c179e"
             ],
             [
              0.4444444444444444,
              "#bd3786"
             ],
             [
              0.5555555555555556,
              "#d8576b"
             ],
             [
              0.6666666666666666,
              "#ed7953"
             ],
             [
              0.7777777777777778,
              "#fb9f3a"
             ],
             [
              0.8888888888888888,
              "#fdca26"
             ],
             [
              1,
              "#f0f921"
             ]
            ],
            "type": "histogram2d"
           }
          ],
          "histogram2dcontour": [
           {
            "colorbar": {
             "outlinewidth": 0,
             "ticks": ""
            },
            "colorscale": [
             [
              0,
              "#0d0887"
             ],
             [
              0.1111111111111111,
              "#46039f"
             ],
             [
              0.2222222222222222,
              "#7201a8"
             ],
             [
              0.3333333333333333,
              "#9c179e"
             ],
             [
              0.4444444444444444,
              "#bd3786"
             ],
             [
              0.5555555555555556,
              "#d8576b"
             ],
             [
              0.6666666666666666,
              "#ed7953"
             ],
             [
              0.7777777777777778,
              "#fb9f3a"
             ],
             [
              0.8888888888888888,
              "#fdca26"
             ],
             [
              1,
              "#f0f921"
             ]
            ],
            "type": "histogram2dcontour"
           }
          ],
          "mesh3d": [
           {
            "colorbar": {
             "outlinewidth": 0,
             "ticks": ""
            },
            "type": "mesh3d"
           }
          ],
          "parcoords": [
           {
            "line": {
             "colorbar": {
              "outlinewidth": 0,
              "ticks": ""
             }
            },
            "type": "parcoords"
           }
          ],
          "pie": [
           {
            "automargin": true,
            "type": "pie"
           }
          ],
          "scatter": [
           {
            "fillpattern": {
             "fillmode": "overlay",
             "size": 10,
             "solidity": 0.2
            },
            "type": "scatter"
           }
          ],
          "scatter3d": [
           {
            "line": {
             "colorbar": {
              "outlinewidth": 0,
              "ticks": ""
             }
            },
            "marker": {
             "colorbar": {
              "outlinewidth": 0,
              "ticks": ""
             }
            },
            "type": "scatter3d"
           }
          ],
          "scattercarpet": [
           {
            "marker": {
             "colorbar": {
              "outlinewidth": 0,
              "ticks": ""
             }
            },
            "type": "scattercarpet"
           }
          ],
          "scattergeo": [
           {
            "marker": {
             "colorbar": {
              "outlinewidth": 0,
              "ticks": ""
             }
            },
            "type": "scattergeo"
           }
          ],
          "scattergl": [
           {
            "marker": {
             "colorbar": {
              "outlinewidth": 0,
              "ticks": ""
             }
            },
            "type": "scattergl"
           }
          ],
          "scattermap": [
           {
            "marker": {
             "colorbar": {
              "outlinewidth": 0,
              "ticks": ""
             }
            },
            "type": "scattermap"
           }
          ],
          "scattermapbox": [
           {
            "marker": {
             "colorbar": {
              "outlinewidth": 0,
              "ticks": ""
             }
            },
            "type": "scattermapbox"
           }
          ],
          "scatterpolar": [
           {
            "marker": {
             "colorbar": {
              "outlinewidth": 0,
              "ticks": ""
             }
            },
            "type": "scatterpolar"
           }
          ],
          "scatterpolargl": [
           {
            "marker": {
             "colorbar": {
              "outlinewidth": 0,
              "ticks": ""
             }
            },
            "type": "scatterpolargl"
           }
          ],
          "scatterternary": [
           {
            "marker": {
             "colorbar": {
              "outlinewidth": 0,
              "ticks": ""
             }
            },
            "type": "scatterternary"
           }
          ],
          "surface": [
           {
            "colorbar": {
             "outlinewidth": 0,
             "ticks": ""
            },
            "colorscale": [
             [
              0,
              "#0d0887"
             ],
             [
              0.1111111111111111,
              "#46039f"
             ],
             [
              0.2222222222222222,
              "#7201a8"
             ],
             [
              0.3333333333333333,
              "#9c179e"
             ],
             [
              0.4444444444444444,
              "#bd3786"
             ],
             [
              0.5555555555555556,
              "#d8576b"
             ],
             [
              0.6666666666666666,
              "#ed7953"
             ],
             [
              0.7777777777777778,
              "#fb9f3a"
             ],
             [
              0.8888888888888888,
              "#fdca26"
             ],
             [
              1,
              "#f0f921"
             ]
            ],
            "type": "surface"
           }
          ],
          "table": [
           {
            "cells": {
             "fill": {
              "color": "#EBF0F8"
             },
             "line": {
              "color": "white"
             }
            },
            "header": {
             "fill": {
              "color": "#C8D4E3"
             },
             "line": {
              "color": "white"
             }
            },
            "type": "table"
           }
          ]
         },
         "layout": {
          "annotationdefaults": {
           "arrowcolor": "#2a3f5f",
           "arrowhead": 0,
           "arrowwidth": 1
          },
          "autotypenumbers": "strict",
          "coloraxis": {
           "colorbar": {
            "outlinewidth": 0,
            "ticks": ""
           }
          },
          "colorscale": {
           "diverging": [
            [
             0,
             "#8e0152"
            ],
            [
             0.1,
             "#c51b7d"
            ],
            [
             0.2,
             "#de77ae"
            ],
            [
             0.3,
             "#f1b6da"
            ],
            [
             0.4,
             "#fde0ef"
            ],
            [
             0.5,
             "#f7f7f7"
            ],
            [
             0.6,
             "#e6f5d0"
            ],
            [
             0.7,
             "#b8e186"
            ],
            [
             0.8,
             "#7fbc41"
            ],
            [
             0.9,
             "#4d9221"
            ],
            [
             1,
             "#276419"
            ]
           ],
           "sequential": [
            [
             0,
             "#0d0887"
            ],
            [
             0.1111111111111111,
             "#46039f"
            ],
            [
             0.2222222222222222,
             "#7201a8"
            ],
            [
             0.3333333333333333,
             "#9c179e"
            ],
            [
             0.4444444444444444,
             "#bd3786"
            ],
            [
             0.5555555555555556,
             "#d8576b"
            ],
            [
             0.6666666666666666,
             "#ed7953"
            ],
            [
             0.7777777777777778,
             "#fb9f3a"
            ],
            [
             0.8888888888888888,
             "#fdca26"
            ],
            [
             1,
             "#f0f921"
            ]
           ],
           "sequentialminus": [
            [
             0,
             "#0d0887"
            ],
            [
             0.1111111111111111,
             "#46039f"
            ],
            [
             0.2222222222222222,
             "#7201a8"
            ],
            [
             0.3333333333333333,
             "#9c179e"
            ],
            [
             0.4444444444444444,
             "#bd3786"
            ],
            [
             0.5555555555555556,
             "#d8576b"
            ],
            [
             0.6666666666666666,
             "#ed7953"
            ],
            [
             0.7777777777777778,
             "#fb9f3a"
            ],
            [
             0.8888888888888888,
             "#fdca26"
            ],
            [
             1,
             "#f0f921"
            ]
           ]
          },
          "colorway": [
           "#636efa",
           "#EF553B",
           "#00cc96",
           "#ab63fa",
           "#FFA15A",
           "#19d3f3",
           "#FF6692",
           "#B6E880",
           "#FF97FF",
           "#FECB52"
          ],
          "font": {
           "color": "#2a3f5f"
          },
          "geo": {
           "bgcolor": "white",
           "lakecolor": "white",
           "landcolor": "#E5ECF6",
           "showlakes": true,
           "showland": true,
           "subunitcolor": "white"
          },
          "hoverlabel": {
           "align": "left"
          },
          "hovermode": "closest",
          "mapbox": {
           "style": "light"
          },
          "paper_bgcolor": "white",
          "plot_bgcolor": "#E5ECF6",
          "polar": {
           "angularaxis": {
            "gridcolor": "white",
            "linecolor": "white",
            "ticks": ""
           },
           "bgcolor": "#E5ECF6",
           "radialaxis": {
            "gridcolor": "white",
            "linecolor": "white",
            "ticks": ""
           }
          },
          "scene": {
           "xaxis": {
            "backgroundcolor": "#E5ECF6",
            "gridcolor": "white",
            "gridwidth": 2,
            "linecolor": "white",
            "showbackground": true,
            "ticks": "",
            "zerolinecolor": "white"
           },
           "yaxis": {
            "backgroundcolor": "#E5ECF6",
            "gridcolor": "white",
            "gridwidth": 2,
            "linecolor": "white",
            "showbackground": true,
            "ticks": "",
            "zerolinecolor": "white"
           },
           "zaxis": {
            "backgroundcolor": "#E5ECF6",
            "gridcolor": "white",
            "gridwidth": 2,
            "linecolor": "white",
            "showbackground": true,
            "ticks": "",
            "zerolinecolor": "white"
           }
          },
          "shapedefaults": {
           "line": {
            "color": "#2a3f5f"
           }
          },
          "ternary": {
           "aaxis": {
            "gridcolor": "white",
            "linecolor": "white",
            "ticks": ""
           },
           "baxis": {
            "gridcolor": "white",
            "linecolor": "white",
            "ticks": ""
           },
           "bgcolor": "#E5ECF6",
           "caxis": {
            "gridcolor": "white",
            "linecolor": "white",
            "ticks": ""
           }
          },
          "title": {
           "x": 0.05
          },
          "xaxis": {
           "automargin": true,
           "gridcolor": "white",
           "linecolor": "white",
           "ticks": "",
           "title": {
            "standoff": 15
           },
           "zerolinecolor": "white",
           "zerolinewidth": 2
          },
          "yaxis": {
           "automargin": true,
           "gridcolor": "white",
           "linecolor": "white",
           "ticks": "",
           "title": {
            "standoff": 15
           },
           "zerolinecolor": "white",
           "zerolinewidth": 2
          }
         }
        },
        "title": {
         "text": "<b>Poder Predictivo del Índice IRIS:</b> Tasa de Fracaso por Grupo de Riesgo"
        },
        "xaxis": {
         "anchor": "y",
         "domain": [
          0,
          1
         ],
         "title": {
          "text": "Grupo de Riesgo (Predicho con datos de 2022)"
         }
        },
        "yaxis": {
         "anchor": "x",
         "domain": [
          0,
          1
         ],
         "tickformat": ".0%",
         "title": {
          "text": "Tasa de Fracaso Real (en proyectos de 2023+)"
         }
        }
       }
      },
      "image/png": "[encoded data removed]"
     },
     "metadata": {},
     "output_type": "display_data"
    }
   ],
   "source": [
    "# --- Martes y Miércoles: Backtest Final y Visualización ---\n",
    "import plotly.express as px\n",
    "\n",
    "print(\"--- 3. Re-construyendo el Índice IRIS con datos de entrenamiento ---\")\n",
    "\n",
    "# (Todo el código para crear df_iris_2022 es el mismo y ya sabemos que funciona)\n",
    "df_train['ubigeo'] = df_train['departamento'] + '_' + df_train['provincia'] + '_' + df_train['distrito']\n",
    "infobras_2022 = df_train.groupby('ubigeo').agg(\n",
    "    g_factor_tasa_paralizacion=('fue_paralizado', 'mean'),\n",
    "    g_factor_ratio_sobretiempo_promedio=('ratio_sobretiempo', 'mean'),\n",
    "    g_factor_ratio_sobrecosto_promedio=('ratio_sobrecosto', 'mean')\n",
    ").reset_index()\n",
    "df_sinadef = pd.read_csv('../data/sinadef_certified_v1.csv')\n",
    "df_iris_2022 = pd.merge(infobras_2022, df_sinadef, on='ubigeo', how='left')\n",
    "for col in df_iris_2022.columns:\n",
    "    if col != 'ubigeo' and pd.api.types.is_numeric_dtype(df_iris_2022[col]):\n",
    "        df_iris_2022[col] = df_iris_2022[col].fillna(df_iris_2022[col].median())\n",
    "scaler = MinMaxScaler()\n",
    "factor_cols = [col for col in df_iris_2022.columns if 'factor' in col]\n",
    "df_iris_2022[factor_cols] = scaler.fit_transform(df_iris_2022[factor_cols])\n",
    "df_iris_2022['s_factor_edad_prom_muerte'] = 1 - df_iris_2022['s_factor_edad_prom_muerte']\n",
    "g_cols = [col for col in factor_cols if 'g_factor' in col]\n",
    "s_cols = [col for col in factor_cols if 's_factor' in col]\n",
    "df_iris_2022['g_score'] = df_iris_2022[g_cols].mean(axis=1)\n",
    "df_iris_2022['s_score'] = df_iris_2022[s_cols].mean(axis=1)\n",
    "df_iris_2022['iris_score_2022'] = 0.5 * df_iris_2022['g_score'] + 0.5 * df_iris_2022['s_score']\n",
    "\n",
    "print(\"Score IRIS histórico (versión 2022) calculado.\")\n",
    "\n",
    "# --- 4. Aplicar el Score Histórico ---\n",
    "print(\"\\n--- 4. Aplicando el Score 2022 a los proyectos de 2023+ ---\")\n",
    "df_test['ubigeo'] = df_test['departamento'] + '_' + df_test['provincia'] + '_' + df_test['distrito']\n",
    "df_test_scored = pd.merge(df_test, df_iris_2022[['ubigeo', 'iris_score_2022']], on='ubigeo', how='left')\n",
    "df_test_scored.dropna(subset=['iris_score_2022'], inplace=True)\n",
    "\n",
    "# --- PASO DE DEPURACIÓN CLAVE ---\n",
    "num_valores_unicos = df_test_scored['iris_score_2022'].nunique()\n",
    "print(f\"\\nDEPURACIÓN: Se encontraron {num_valores_unicos} scores únicos en los datos de prueba.\")\n",
    "\n",
    "\n",
    "# --- 5. Evaluación de los Resultados (Versión Robusta) ---\n",
    "print(\"\\n--- 5. RESULTADOS DEL BACKTEST ---\")\n",
    "\n",
    "# Intentamos crear grupos (de 5 a 2) hasta que uno funcione\n",
    "for num_grupos in [5, 4, 3, 2]:\n",
    "    try:\n",
    "        print(f\"Intentando crear {num_grupos} grupos de riesgo...\")\n",
    "        labels = [f\"{i+1}\" for i in range(num_grupos)]\n",
    "        df_test_scored['risk_group'] = pd.qcut(df_test_scored['iris_score_2022'], num_grupos, labels=labels, duplicates='raise')\n",
    "        \n",
    "        validation_results = df_test_scored.groupby('risk_group', observed=False)['project_failed'].mean().reset_index()\n",
    "        validation_results.rename(columns={'project_failed': 'tasa_de_fracaso_real'}, inplace=True)\n",
    "        \n",
    "        print(f\"¡Éxito! Se crearon {num_grupos} grupos de riesgo.\")\n",
    "        break # Si funciona, salimos del bucle\n",
    "    except ValueError:\n",
    "        print(f\"No se pudieron crear {num_grupos} grupos. Intentando con menos...\")\n",
    "        validation_results = None # Nos aseguramos de que no exista si falla\n",
    "\n",
    "if validation_results is not None:\n",
    "    print(f\"\\nTasa de Fracaso Real por {num_grupos} Grupos de Riesgo:\")\n",
    "    display(validation_results)\n",
    "\n",
    "    # --- 6. Visualización ---\n",
    "    print(\"\\n--- 6. Visualizando los Resultados ---\")\n",
    "    fig = px.bar(\n",
    "        validation_results, x='risk_group', y='tasa_de_fracaso_real',\n",
    "        title='<b>Poder Predictivo del Índice IRIS:</b> Tasa de Fracaso por Grupo de Riesgo',\n",
    "        labels={'risk_group': f'Grupo de Riesgo (Predicho con datos de 2022)', 'tasa_de_fracaso_real': 'Tasa de Fracaso Real (en proyectos de 2023+)'},\n",
    "        text_auto=True, color='tasa_de_fracaso_real', color_continuous_scale='Reds'\n",
    "    )\n",
    "    fig.update_traces(texttemplate='%{y:.1%}', textposition='outside')\n",
    "    fig.update_yaxes(tickformat=\".0%\")\n",
    "    fig.show()\n",
    "else:\n",
    "    print(\"\\nFALLO TOTAL: No se pudieron crear grupos de riesgo, incluso con solo 2. Los datos de score podrían ser casi constantes.\")\n",
    "    print(\"Estadísticas del score para depuración:\")\n",
    "    display(df_test_scored['iris_score_2022'].describe())"
   ]
  },
  {
   "cell_type": "code",
   "execution_count": null,
   "id": "b447ff09-23d8-4207-b6ce-d5e991dcdfed",
   "metadata": {},
   "outputs": [],
   "source": []
  }
 ],
 "metadata": {
  "kernelspec": {
   "display_name": "Python 3 (ipykernel)",
   "language": "python",
   "name": "python3"
  },
  "language_info": {
   "codemirror_mode": {
    "name": "ipython",
    "version": 3
   },
   "file_extension": ".py",
   "mimetype": "text/x-python",
   "name": "python",
   "nbconvert_exporter": "python",
   "pygments_lexer": "ipython3",
   "version": "3.12.6"
  }
 },
 "nbformat": 4,
 "nbformat_minor": 5
}
