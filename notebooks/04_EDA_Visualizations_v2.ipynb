{
 "cells": [
  {
   "cell_type": "code",
   "execution_count": 2,
   "id": "53e6e5b5-354e-43ce-9ed6-a3129c1bcc0e",
   "metadata": {},
   "outputs": [
    {
     "name": "stdout",
     "output_type": "stream",
     "text": [
      "--- Iniciando Inspección Cruzada de Claves ---\n",
      "Ingredientes cargados con éxito.\n",
      "\n",
      "--- COTEJAMIENTO DE CLAVES DE UNIÓN ---\n",
      "\n",
      "Ejemplo de clave del GeoJSON:\n",
      "150138\n",
      "(Tipo de dato: <class 'str'>)\n",
      "\n",
      "Ejemplo de clave de tu DataFrame:\n",
      "150138\n",
      "(Tipo de dato: <class 'str'>)\n",
      "\n",
      "--- PRUEBA DE FUEGO ---\n",
      "Número de coincidencias exactas encontradas: 1740 de 1778 posibles.\n",
      "\n",
      "DIAGNÓSTICO: ¡ALTA TASA DE COINCIDENCIA! El problema probablemente no está en los datos, sino en la app.\n"
     ]
    }
   ],
   "source": [
    "import pandas as pd\n",
    "import json\n",
    "\n",
    "print(\"--- Iniciando Inspección Cruzada de Claves ---\")\n",
    "\n",
    "try:\n",
    "    # --- 1. Cargar los dos ingredientes (CON RUTAS CORREGIDAS) ---\n",
    "    df_scores = pd.read_csv('../data/iris_scores_for_dashboard.csv')\n",
    "    with open('../data/peru_distritos.geojson') as f:\n",
    "        geojson_distritos = json.load(f)\n",
    "    \n",
    "    print(\"Ingredientes cargados con éxito.\")\n",
    "    \n",
    "    # --- 2. Preparar AMBAS claves con el MISMO método de blindaje ---\n",
    "    geojson_ids = {feature['properties']['IDDIST'] for feature in geojson_distritos['features']}\n",
    "    df_scores.dropna(subset=['ubigeo_code'], inplace=True)\n",
    "    dataframe_ids = set(df_scores['ubigeo_code'].astype(int).astype(str).str.zfill(6))\n",
    "\n",
    "    # --- 3. El Cotejamiento Manual: Imprimir ejemplos ---\n",
    "    print(\"\\n--- COTEJAMIENTO DE CLAVES DE UNIÓN ---\")\n",
    "    print(\"\\nEjemplo de clave del GeoJSON:\")\n",
    "    print(next(iter(geojson_ids))) \n",
    "    print(f\"(Tipo de dato: {type(next(iter(geojson_ids)))})\")\n",
    "\n",
    "    print(\"\\nEjemplo de clave de tu DataFrame:\")\n",
    "    print(next(iter(dataframe_ids))) \n",
    "    print(f\"(Tipo de dato: {type(next(iter(dataframe_ids)))})\")\n",
    "\n",
    "    # --- 4. La Prueba de Fuego Cuantitativa ---\n",
    "    print(\"\\n--- PRUEBA DE FUEGO ---\")\n",
    "    coincidencias = dataframe_ids.intersection(geojson_ids)\n",
    "    print(f\"Número de coincidencias exactas encontradas: {len(coincidencias)} de {len(dataframe_ids)} posibles.\")\n",
    "\n",
    "    if len(coincidencias) == 0:\n",
    "        print(\"\\nDIAGNÓSTICO: ¡CERO COINCIDENCIAS! El formato de las claves no es idéntico.\")\n",
    "    elif len(coincidencias) < len(dataframe_ids) * 0.8:\n",
    "        print(\"\\nDIAGNÓSTICO: ¡BAJAS COINCIDENCIAS! Revisa si hay discrepancias en los nombres o códigos.\")\n",
    "    else:\n",
    "        print(\"\\nDIAGNÓSTICO: ¡ALTA TASA DE COINCIDENCIA! El problema probablemente no está en los datos, sino en la app.\")\n",
    "\n",
    "except FileNotFoundError as e:\n",
    "    print(f\"\\nERROR: No se encontró un archivo. Asegúrate de que las rutas son correctas y los archivos existen en '../data/'.\")\n",
    "    print(e)"
   ]
  },
  {
   "cell_type": "code",
   "execution_count": null,
   "id": "bb3aad42-82cb-4b11-b585-a64b706d4fb3",
   "metadata": {},
   "outputs": [],
   "source": []
  }
 ],
 "metadata": {
  "kernelspec": {
   "display_name": "Python 3 (ipykernel)",
   "language": "python",
   "name": "python3"
  },
  "language_info": {
   "codemirror_mode": {
    "name": "ipython",
    "version": 3
   },
   "file_extension": ".py",
   "mimetype": "text/x-python",
   "name": "python",
   "nbconvert_exporter": "python",
   "pygments_lexer": "ipython3",
   "version": "3.12.6"
  }
 },
 "nbformat": 4,
 "nbformat_minor": 5
}
